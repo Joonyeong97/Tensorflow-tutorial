{
 "cells": [
  {
   "cell_type": "code",
   "execution_count": 2,
   "metadata": {},
   "outputs": [
    {
     "data": {
      "text/plain": [
       "'2.3.1'"
      ]
     },
     "execution_count": 2,
     "metadata": {},
     "output_type": "execute_result"
    }
   ],
   "source": [
    "import tensorflow as tf\n",
    "tf.__version__"
   ]
  },
  {
   "cell_type": "code",
   "execution_count": 4,
   "metadata": {},
   "outputs": [
    {
     "name": "stdout",
     "output_type": "stream",
     "text": [
      "입력데이터=[0.29466096 0.30317302], 예측결과=[0.17507902]\n",
      "입력데이터=[0.39445118 0.79390858], 예측결과=[0.7437372]\n",
      "입력데이터=[0.02884127 0.6208843 ], 예측결과=[0.38996625]\n"
     ]
    }
   ],
   "source": [
    "from tensorflow.keras.models import Sequential\n",
    "from tensorflow.keras.layers import Dense # layers -> 모델구성\n",
    "from sklearn.datasets import make_regression\n",
    "# 신경망에서는 정규화가 우선임\n",
    "from sklearn.preprocessing import MinMaxScaler\n",
    "X,y = make_regression(n_samples=100, n_features=2,noise=0.1,random_state=1)\n",
    "scalarX, scalarY = MinMaxScaler(), MinMaxScaler()\n",
    "X = scalarX.fit_transform(X)\n",
    "y = scalarY.fit_transform(y.reshape(100,1))\n",
    "\n",
    "# keras 모델\n",
    "model = Sequential()\n",
    "# 100*2 출력차수지정, 2*4 -> 100*4\n",
    "# layer depth\n",
    "# Dense는 FFNN망을 구성할때 씀\n",
    "model.add(Dense(4, input_dim=2, activation='relu'))\n",
    "# 100*4 / 4*4 / 100*4\n",
    "model.add(Dense(4, activation='relu'))\n",
    "# 100*4 / 4*1 / 100*1 예측\n",
    "model.add(Dense(1, activation='linear'))\n",
    "# backend = tensorflow\n",
    "# loss 에 mse, cross enthropy, KL-divergence : 분포를 비교\n",
    "model.compile(loss='mse', optimizer='adam') # tensorflow 모델을변환\n",
    "model.fit(X,y, epochs=1000, verbose=0)\n",
    "\n",
    "Xnew, a = make_regression(n_samples=3, n_features=2, noise=0.1,random_state=1)\n",
    "Xnew = scalarX.transform(Xnew)\n",
    "ynew = model.predict(Xnew)\n",
    "for i in range(len(Xnew)):\n",
    "    print(\"입력데이터=%s, 예측결과=%s\"%(Xnew[i], ynew[i]))"
   ]
  },
  {
   "cell_type": "code",
   "execution_count": 5,
   "metadata": {
    "collapsed": true,
    "jupyter": {
     "outputs_hidden": true
    }
   },
   "outputs": [
    {
     "name": "stdout",
     "output_type": "stream",
     "text": [
      "Epoch 1/150\n",
      "52/52 [==============================] - 0s 5ms/step - loss: 0.6842 - accuracy: 0.6323 - val_loss: 0.6657 - val_accuracy: 0.6732\n",
      "Epoch 2/150\n",
      "52/52 [==============================] - 0s 1ms/step - loss: 0.6689 - accuracy: 0.6401 - val_loss: 0.6685 - val_accuracy: 0.6732\n",
      "Epoch 3/150\n",
      "52/52 [==============================] - 0s 985us/step - loss: 0.6652 - accuracy: 0.6401 - val_loss: 0.6495 - val_accuracy: 0.6732\n",
      "Epoch 4/150\n",
      "52/52 [==============================] - 0s 978us/step - loss: 0.6533 - accuracy: 0.6304 - val_loss: 0.6443 - val_accuracy: 0.6850\n",
      "Epoch 5/150\n",
      "52/52 [==============================] - 0s 911us/step - loss: 0.6474 - accuracy: 0.6518 - val_loss: 0.6366 - val_accuracy: 0.6890\n",
      "Epoch 6/150\n",
      "52/52 [==============================] - 0s 923us/step - loss: 0.6366 - accuracy: 0.6654 - val_loss: 0.6619 - val_accuracy: 0.6102\n",
      "Epoch 7/150\n",
      "52/52 [==============================] - 0s 921us/step - loss: 0.6367 - accuracy: 0.6459 - val_loss: 0.6200 - val_accuracy: 0.6969\n",
      "Epoch 8/150\n",
      "52/52 [==============================] - 0s 921us/step - loss: 0.6285 - accuracy: 0.6634 - val_loss: 0.6080 - val_accuracy: 0.6850\n",
      "Epoch 9/150\n",
      "52/52 [==============================] - 0s 964us/step - loss: 0.6235 - accuracy: 0.6693 - val_loss: 0.6185 - val_accuracy: 0.6654\n",
      "Epoch 10/150\n",
      "52/52 [==============================] - 0s 978us/step - loss: 0.6181 - accuracy: 0.6751 - val_loss: 0.5971 - val_accuracy: 0.6772\n",
      "Epoch 11/150\n",
      "52/52 [==============================] - 0s 911us/step - loss: 0.6205 - accuracy: 0.6712 - val_loss: 0.6034 - val_accuracy: 0.6693\n",
      "Epoch 12/150\n",
      "52/52 [==============================] - 0s 940us/step - loss: 0.6106 - accuracy: 0.6868 - val_loss: 0.5944 - val_accuracy: 0.6732\n",
      "Epoch 13/150\n",
      "52/52 [==============================] - 0s 921us/step - loss: 0.6114 - accuracy: 0.6848 - val_loss: 0.5974 - val_accuracy: 0.6732\n",
      "Epoch 14/150\n",
      "52/52 [==============================] - 0s 940us/step - loss: 0.6079 - accuracy: 0.6848 - val_loss: 0.5804 - val_accuracy: 0.7087\n",
      "Epoch 15/150\n",
      "52/52 [==============================] - 0s 921us/step - loss: 0.6065 - accuracy: 0.6770 - val_loss: 0.5771 - val_accuracy: 0.7087\n",
      "Epoch 16/150\n",
      "52/52 [==============================] - 0s 1ms/step - loss: 0.6117 - accuracy: 0.6479 - val_loss: 0.5831 - val_accuracy: 0.6693\n",
      "Epoch 17/150\n",
      "52/52 [==============================] - 0s 863us/step - loss: 0.6056 - accuracy: 0.6809 - val_loss: 0.5843 - val_accuracy: 0.7362\n",
      "Epoch 18/150\n",
      "52/52 [==============================] - 0s 844us/step - loss: 0.6022 - accuracy: 0.7023 - val_loss: 0.5687 - val_accuracy: 0.7087\n",
      "Epoch 19/150\n",
      "52/52 [==============================] - 0s 882us/step - loss: 0.6019 - accuracy: 0.6907 - val_loss: 0.5674 - val_accuracy: 0.7087\n",
      "Epoch 20/150\n",
      "52/52 [==============================] - 0s 959us/step - loss: 0.6023 - accuracy: 0.6829 - val_loss: 0.6332 - val_accuracy: 0.6024\n",
      "Epoch 21/150\n",
      "52/52 [==============================] - 0s 921us/step - loss: 0.6055 - accuracy: 0.7023 - val_loss: 0.5788 - val_accuracy: 0.7323\n",
      "Epoch 22/150\n",
      "52/52 [==============================] - 0s 1ms/step - loss: 0.5973 - accuracy: 0.7043 - val_loss: 0.5671 - val_accuracy: 0.7047\n",
      "Epoch 23/150\n",
      "52/52 [==============================] - 0s 1ms/step - loss: 0.5954 - accuracy: 0.6907 - val_loss: 0.5660 - val_accuracy: 0.6969\n",
      "Epoch 24/150\n",
      "52/52 [==============================] - 0s 1ms/step - loss: 0.5929 - accuracy: 0.6965 - val_loss: 0.5631 - val_accuracy: 0.7047\n",
      "Epoch 25/150\n",
      "52/52 [==============================] - 0s 1ms/step - loss: 0.5934 - accuracy: 0.6965 - val_loss: 0.5695 - val_accuracy: 0.7283\n",
      "Epoch 26/150\n",
      "52/52 [==============================] - 0s 1ms/step - loss: 0.5955 - accuracy: 0.6965 - val_loss: 0.5632 - val_accuracy: 0.7165\n",
      "Epoch 27/150\n",
      "52/52 [==============================] - 0s 1ms/step - loss: 0.5943 - accuracy: 0.7023 - val_loss: 0.5652 - val_accuracy: 0.6929\n",
      "Epoch 28/150\n",
      "52/52 [==============================] - 0s 882us/step - loss: 0.5887 - accuracy: 0.6946 - val_loss: 0.5622 - val_accuracy: 0.6929\n",
      "Epoch 29/150\n",
      "52/52 [==============================] - 0s 901us/step - loss: 0.6003 - accuracy: 0.6946 - val_loss: 0.5595 - val_accuracy: 0.6969\n",
      "Epoch 30/150\n",
      "52/52 [==============================] - 0s 844us/step - loss: 0.5939 - accuracy: 0.6926 - val_loss: 0.5603 - val_accuracy: 0.7165\n",
      "Epoch 31/150\n",
      "52/52 [==============================] - 0s 882us/step - loss: 0.5897 - accuracy: 0.6965 - val_loss: 0.5568 - val_accuracy: 0.7165\n",
      "Epoch 32/150\n",
      "52/52 [==============================] - 0s 921us/step - loss: 0.5912 - accuracy: 0.6965 - val_loss: 0.5557 - val_accuracy: 0.7283\n",
      "Epoch 33/150\n",
      "52/52 [==============================] - 0s 940us/step - loss: 0.5891 - accuracy: 0.6984 - val_loss: 0.5563 - val_accuracy: 0.6929\n",
      "Epoch 34/150\n",
      "52/52 [==============================] - 0s 1ms/step - loss: 0.5854 - accuracy: 0.6965 - val_loss: 0.5558 - val_accuracy: 0.7126\n",
      "Epoch 35/150\n",
      "52/52 [==============================] - 0s 1ms/step - loss: 0.5833 - accuracy: 0.6946 - val_loss: 0.5539 - val_accuracy: 0.7047\n",
      "Epoch 36/150\n",
      "52/52 [==============================] - 0s 1ms/step - loss: 0.5876 - accuracy: 0.6887 - val_loss: 0.5649 - val_accuracy: 0.7323\n",
      "Epoch 37/150\n",
      "52/52 [==============================] - 0s 900us/step - loss: 0.5860 - accuracy: 0.6770 - val_loss: 0.5528 - val_accuracy: 0.7126\n",
      "Epoch 38/150\n",
      "52/52 [==============================] - 0s 901us/step - loss: 0.5812 - accuracy: 0.7004 - val_loss: 0.5513 - val_accuracy: 0.7205\n",
      "Epoch 39/150\n",
      "52/52 [==============================] - 0s 844us/step - loss: 0.5837 - accuracy: 0.6984 - val_loss: 0.5568 - val_accuracy: 0.7205\n",
      "Epoch 40/150\n",
      "52/52 [==============================] - 0s 882us/step - loss: 0.5762 - accuracy: 0.7062 - val_loss: 0.5490 - val_accuracy: 0.7205\n",
      "Epoch 41/150\n",
      "52/52 [==============================] - 0s 921us/step - loss: 0.5755 - accuracy: 0.7101 - val_loss: 0.5516 - val_accuracy: 0.7205\n",
      "Epoch 42/150\n",
      "52/52 [==============================] - 0s 1ms/step - loss: 0.5732 - accuracy: 0.7043 - val_loss: 0.5469 - val_accuracy: 0.7047\n",
      "Epoch 43/150\n",
      "52/52 [==============================] - 0s 940us/step - loss: 0.5712 - accuracy: 0.7179 - val_loss: 0.5455 - val_accuracy: 0.7244\n",
      "Epoch 44/150\n",
      "52/52 [==============================] - 0s 882us/step - loss: 0.5742 - accuracy: 0.7004 - val_loss: 0.5528 - val_accuracy: 0.7323\n",
      "Epoch 45/150\n",
      "52/52 [==============================] - 0s 863us/step - loss: 0.5683 - accuracy: 0.7023 - val_loss: 0.5521 - val_accuracy: 0.7402\n",
      "Epoch 46/150\n",
      "52/52 [==============================] - 0s 825us/step - loss: 0.5749 - accuracy: 0.7101 - val_loss: 0.5497 - val_accuracy: 0.7244\n",
      "Epoch 47/150\n",
      "52/52 [==============================] - 0s 844us/step - loss: 0.5719 - accuracy: 0.7121 - val_loss: 0.5471 - val_accuracy: 0.7323\n",
      "Epoch 48/150\n",
      "52/52 [==============================] - 0s 844us/step - loss: 0.5660 - accuracy: 0.7237 - val_loss: 0.5551 - val_accuracy: 0.6969\n",
      "Epoch 49/150\n",
      "52/52 [==============================] - 0s 940us/step - loss: 0.5619 - accuracy: 0.7237 - val_loss: 0.5586 - val_accuracy: 0.7205\n",
      "Epoch 50/150\n",
      "52/52 [==============================] - 0s 844us/step - loss: 0.5663 - accuracy: 0.7121 - val_loss: 0.5457 - val_accuracy: 0.7205\n",
      "Epoch 51/150\n",
      "52/52 [==============================] - 0s 882us/step - loss: 0.5720 - accuracy: 0.7257 - val_loss: 0.5495 - val_accuracy: 0.7165\n",
      "Epoch 52/150\n",
      "52/52 [==============================] - 0s 921us/step - loss: 0.5708 - accuracy: 0.7101 - val_loss: 0.5392 - val_accuracy: 0.7283\n",
      "Epoch 53/150\n",
      "52/52 [==============================] - 0s 959us/step - loss: 0.5736 - accuracy: 0.7140 - val_loss: 0.5450 - val_accuracy: 0.7165\n",
      "Epoch 54/150\n",
      "52/52 [==============================] - 0s 1ms/step - loss: 0.5665 - accuracy: 0.7276 - val_loss: 0.5521 - val_accuracy: 0.7323\n",
      "Epoch 55/150\n",
      "52/52 [==============================] - 0s 940us/step - loss: 0.5690 - accuracy: 0.7082 - val_loss: 0.5474 - val_accuracy: 0.7008\n",
      "Epoch 56/150\n",
      "52/52 [==============================] - 0s 921us/step - loss: 0.5641 - accuracy: 0.7062 - val_loss: 0.5437 - val_accuracy: 0.7126\n",
      "Epoch 57/150\n",
      "52/52 [==============================] - 0s 882us/step - loss: 0.5539 - accuracy: 0.7276 - val_loss: 0.5465 - val_accuracy: 0.7402\n",
      "Epoch 58/150\n",
      "52/52 [==============================] - 0s 940us/step - loss: 0.5510 - accuracy: 0.7257 - val_loss: 0.5672 - val_accuracy: 0.7244\n",
      "Epoch 59/150\n",
      "52/52 [==============================] - 0s 901us/step - loss: 0.5517 - accuracy: 0.7276 - val_loss: 0.5661 - val_accuracy: 0.7205\n",
      "Epoch 60/150\n",
      "52/52 [==============================] - 0s 844us/step - loss: 0.5596 - accuracy: 0.7218 - val_loss: 0.5463 - val_accuracy: 0.7244\n",
      "Epoch 61/150\n",
      "52/52 [==============================] - 0s 921us/step - loss: 0.5562 - accuracy: 0.7335 - val_loss: 0.5601 - val_accuracy: 0.7244\n",
      "Epoch 62/150\n",
      "52/52 [==============================] - 0s 921us/step - loss: 0.5552 - accuracy: 0.7354 - val_loss: 0.5362 - val_accuracy: 0.7205\n",
      "Epoch 63/150\n",
      "52/52 [==============================] - 0s 940us/step - loss: 0.5557 - accuracy: 0.7237 - val_loss: 0.5468 - val_accuracy: 0.7126\n",
      "Epoch 64/150\n",
      "52/52 [==============================] - 0s 921us/step - loss: 0.5440 - accuracy: 0.7412 - val_loss: 0.5351 - val_accuracy: 0.7283\n",
      "Epoch 65/150\n",
      "52/52 [==============================] - 0s 934us/step - loss: 0.5477 - accuracy: 0.7412 - val_loss: 0.5436 - val_accuracy: 0.7244\n",
      "Epoch 66/150\n",
      "52/52 [==============================] - 0s 1ms/step - loss: 0.5486 - accuracy: 0.7335 - val_loss: 0.5355 - val_accuracy: 0.7323\n",
      "Epoch 67/150\n",
      "52/52 [==============================] - 0s 892us/step - loss: 0.5525 - accuracy: 0.7374 - val_loss: 0.5596 - val_accuracy: 0.7008\n",
      "Epoch 68/150\n",
      "52/52 [==============================] - 0s 1ms/step - loss: 0.5536 - accuracy: 0.7237 - val_loss: 0.5398 - val_accuracy: 0.7323\n",
      "Epoch 69/150\n",
      "52/52 [==============================] - 0s 844us/step - loss: 0.5472 - accuracy: 0.7237 - val_loss: 0.5469 - val_accuracy: 0.7126\n",
      "Epoch 70/150\n",
      "52/52 [==============================] - 0s 901us/step - loss: 0.5469 - accuracy: 0.7432 - val_loss: 0.5322 - val_accuracy: 0.7441\n",
      "Epoch 71/150\n",
      "52/52 [==============================] - 0s 999us/step - loss: 0.5447 - accuracy: 0.7276 - val_loss: 0.5392 - val_accuracy: 0.7165\n",
      "Epoch 72/150\n",
      "52/52 [==============================] - 0s 1ms/step - loss: 0.5465 - accuracy: 0.7237 - val_loss: 0.5432 - val_accuracy: 0.7205\n",
      "Epoch 73/150\n",
      "52/52 [==============================] - 0s 997us/step - loss: 0.5449 - accuracy: 0.7296 - val_loss: 0.5315 - val_accuracy: 0.7441\n",
      "Epoch 74/150\n",
      "52/52 [==============================] - 0s 911us/step - loss: 0.5388 - accuracy: 0.7218 - val_loss: 0.5549 - val_accuracy: 0.7244\n",
      "Epoch 75/150\n",
      "52/52 [==============================] - 0s 940us/step - loss: 0.5421 - accuracy: 0.7335 - val_loss: 0.5331 - val_accuracy: 0.7362\n",
      "Epoch 76/150\n",
      "52/52 [==============================] - 0s 950us/step - loss: 0.5428 - accuracy: 0.7335 - val_loss: 0.5370 - val_accuracy: 0.7362\n",
      "Epoch 77/150\n",
      "52/52 [==============================] - 0s 940us/step - loss: 0.5359 - accuracy: 0.7276 - val_loss: 0.5577 - val_accuracy: 0.7126\n",
      "Epoch 78/150\n",
      "52/52 [==============================] - 0s 863us/step - loss: 0.5382 - accuracy: 0.7412 - val_loss: 0.5324 - val_accuracy: 0.7323\n",
      "Epoch 79/150\n",
      "52/52 [==============================] - 0s 901us/step - loss: 0.5298 - accuracy: 0.7315 - val_loss: 0.5365 - val_accuracy: 0.7205\n",
      "Epoch 80/150\n",
      "52/52 [==============================] - 0s 901us/step - loss: 0.5320 - accuracy: 0.7354 - val_loss: 0.5598 - val_accuracy: 0.7323\n",
      "Epoch 81/150\n",
      "52/52 [==============================] - 0s 825us/step - loss: 0.5358 - accuracy: 0.7412 - val_loss: 0.5324 - val_accuracy: 0.7441\n",
      "Epoch 82/150\n",
      "52/52 [==============================] - 0s 959us/step - loss: 0.5323 - accuracy: 0.7374 - val_loss: 0.5524 - val_accuracy: 0.7087\n",
      "Epoch 83/150\n",
      "52/52 [==============================] - 0s 959us/step - loss: 0.5226 - accuracy: 0.7510 - val_loss: 0.5715 - val_accuracy: 0.7283\n",
      "Epoch 84/150\n",
      "52/52 [==============================] - 0s 882us/step - loss: 0.5348 - accuracy: 0.7451 - val_loss: 0.5499 - val_accuracy: 0.7283\n",
      "Epoch 85/150\n",
      "52/52 [==============================] - 0s 863us/step - loss: 0.5236 - accuracy: 0.7510 - val_loss: 0.5294 - val_accuracy: 0.7362\n",
      "Epoch 86/150\n",
      "52/52 [==============================] - 0s 863us/step - loss: 0.5286 - accuracy: 0.7335 - val_loss: 0.5354 - val_accuracy: 0.7323\n",
      "Epoch 87/150\n",
      "52/52 [==============================] - 0s 882us/step - loss: 0.5367 - accuracy: 0.7296 - val_loss: 0.5938 - val_accuracy: 0.6929\n",
      "Epoch 88/150\n",
      "52/52 [==============================] - 0s 863us/step - loss: 0.5344 - accuracy: 0.7451 - val_loss: 0.5309 - val_accuracy: 0.7323\n",
      "Epoch 89/150\n",
      "52/52 [==============================] - 0s 901us/step - loss: 0.5280 - accuracy: 0.7198 - val_loss: 0.5384 - val_accuracy: 0.7480\n",
      "Epoch 90/150\n",
      "52/52 [==============================] - 0s 863us/step - loss: 0.5204 - accuracy: 0.7510 - val_loss: 0.5275 - val_accuracy: 0.7323\n",
      "Epoch 91/150\n",
      "52/52 [==============================] - 0s 882us/step - loss: 0.5249 - accuracy: 0.7432 - val_loss: 0.5250 - val_accuracy: 0.7362\n",
      "Epoch 92/150\n",
      "52/52 [==============================] - 0s 921us/step - loss: 0.5191 - accuracy: 0.7335 - val_loss: 0.5249 - val_accuracy: 0.7362\n",
      "Epoch 93/150\n",
      "52/52 [==============================] - 0s 882us/step - loss: 0.5119 - accuracy: 0.7626 - val_loss: 0.5465 - val_accuracy: 0.7402\n",
      "Epoch 94/150\n",
      "52/52 [==============================] - 0s 921us/step - loss: 0.5197 - accuracy: 0.7490 - val_loss: 0.5435 - val_accuracy: 0.7362\n",
      "Epoch 95/150\n",
      "52/52 [==============================] - 0s 901us/step - loss: 0.5174 - accuracy: 0.7412 - val_loss: 0.5256 - val_accuracy: 0.7283\n",
      "Epoch 96/150\n",
      "52/52 [==============================] - 0s 931us/step - loss: 0.5148 - accuracy: 0.7529 - val_loss: 0.5404 - val_accuracy: 0.7205\n",
      "Epoch 97/150\n",
      "52/52 [==============================] - 0s 901us/step - loss: 0.5276 - accuracy: 0.7237 - val_loss: 0.5374 - val_accuracy: 0.7441\n",
      "Epoch 98/150\n",
      "52/52 [==============================] - 0s 895us/step - loss: 0.5151 - accuracy: 0.7412 - val_loss: 0.5242 - val_accuracy: 0.7402\n",
      "Epoch 99/150\n",
      "52/52 [==============================] - 0s 940us/step - loss: 0.5201 - accuracy: 0.7393 - val_loss: 0.5436 - val_accuracy: 0.7402\n",
      "Epoch 100/150\n",
      "52/52 [==============================] - 0s 959us/step - loss: 0.5082 - accuracy: 0.7471 - val_loss: 0.5236 - val_accuracy: 0.7402\n",
      "Epoch 101/150\n",
      "52/52 [==============================] - 0s 901us/step - loss: 0.5035 - accuracy: 0.7432 - val_loss: 0.5683 - val_accuracy: 0.7520\n",
      "Epoch 102/150\n",
      "52/52 [==============================] - 0s 959us/step - loss: 0.5264 - accuracy: 0.7490 - val_loss: 0.5258 - val_accuracy: 0.7402\n",
      "Epoch 103/150\n",
      "52/52 [==============================] - 0s 844us/step - loss: 0.5079 - accuracy: 0.7568 - val_loss: 0.5321 - val_accuracy: 0.7244\n",
      "Epoch 104/150\n",
      "52/52 [==============================] - 0s 1ms/step - loss: 0.5182 - accuracy: 0.7451 - val_loss: 0.5222 - val_accuracy: 0.7441\n",
      "Epoch 105/150\n",
      "52/52 [==============================] - 0s 844us/step - loss: 0.5070 - accuracy: 0.7471 - val_loss: 0.5275 - val_accuracy: 0.7402\n",
      "Epoch 106/150\n",
      "52/52 [==============================] - 0s 930us/step - loss: 0.5094 - accuracy: 0.7412 - val_loss: 0.5358 - val_accuracy: 0.7087\n",
      "Epoch 107/150\n",
      "52/52 [==============================] - 0s 882us/step - loss: 0.5027 - accuracy: 0.7412 - val_loss: 0.5288 - val_accuracy: 0.7362\n",
      "Epoch 108/150\n",
      "52/52 [==============================] - 0s 978us/step - loss: 0.5141 - accuracy: 0.7412 - val_loss: 0.5263 - val_accuracy: 0.7480\n",
      "Epoch 109/150\n",
      "52/52 [==============================] - 0s 959us/step - loss: 0.5059 - accuracy: 0.7354 - val_loss: 0.5188 - val_accuracy: 0.7441\n",
      "Epoch 110/150\n",
      "52/52 [==============================] - 0s 978us/step - loss: 0.4996 - accuracy: 0.7529 - val_loss: 0.5265 - val_accuracy: 0.7441\n",
      "Epoch 111/150\n",
      "52/52 [==============================] - 0s 901us/step - loss: 0.5071 - accuracy: 0.7432 - val_loss: 0.5334 - val_accuracy: 0.7362\n",
      "Epoch 112/150\n",
      "52/52 [==============================] - 0s 901us/step - loss: 0.4976 - accuracy: 0.7529 - val_loss: 0.5355 - val_accuracy: 0.7402\n",
      "Epoch 113/150\n",
      "52/52 [==============================] - 0s 921us/step - loss: 0.5089 - accuracy: 0.7490 - val_loss: 0.5221 - val_accuracy: 0.7559\n",
      "Epoch 114/150\n",
      "52/52 [==============================] - 0s 863us/step - loss: 0.4943 - accuracy: 0.7607 - val_loss: 0.5190 - val_accuracy: 0.7362\n",
      "Epoch 115/150\n",
      "52/52 [==============================] - 0s 997us/step - loss: 0.4991 - accuracy: 0.7471 - val_loss: 0.5411 - val_accuracy: 0.7559\n",
      "Epoch 116/150\n",
      "52/52 [==============================] - 0s 863us/step - loss: 0.5084 - accuracy: 0.7588 - val_loss: 0.5264 - val_accuracy: 0.7402\n",
      "Epoch 117/150\n",
      "52/52 [==============================] - 0s 825us/step - loss: 0.4957 - accuracy: 0.7510 - val_loss: 0.5201 - val_accuracy: 0.7520\n",
      "Epoch 118/150\n",
      "52/52 [==============================] - 0s 863us/step - loss: 0.4893 - accuracy: 0.7529 - val_loss: 0.5473 - val_accuracy: 0.7323\n",
      "Epoch 119/150\n",
      "52/52 [==============================] - 0s 882us/step - loss: 0.5046 - accuracy: 0.7724 - val_loss: 0.5343 - val_accuracy: 0.7480\n",
      "Epoch 120/150\n",
      "52/52 [==============================] - 0s 844us/step - loss: 0.5015 - accuracy: 0.7471 - val_loss: 0.5373 - val_accuracy: 0.7283\n",
      "Epoch 121/150\n",
      "52/52 [==============================] - 0s 863us/step - loss: 0.4972 - accuracy: 0.7510 - val_loss: 0.5188 - val_accuracy: 0.7480\n",
      "Epoch 122/150\n",
      "52/52 [==============================] - 0s 901us/step - loss: 0.5029 - accuracy: 0.7432 - val_loss: 0.5291 - val_accuracy: 0.7441\n",
      "Epoch 123/150\n",
      "52/52 [==============================] - 0s 901us/step - loss: 0.4966 - accuracy: 0.7471 - val_loss: 0.5437 - val_accuracy: 0.7362\n",
      "Epoch 124/150\n",
      "52/52 [==============================] - 0s 882us/step - loss: 0.4918 - accuracy: 0.7802 - val_loss: 0.5271 - val_accuracy: 0.7520\n",
      "Epoch 125/150\n",
      "52/52 [==============================] - 0s 863us/step - loss: 0.4880 - accuracy: 0.7510 - val_loss: 0.5354 - val_accuracy: 0.7559\n",
      "Epoch 126/150\n",
      "52/52 [==============================] - 0s 844us/step - loss: 0.4873 - accuracy: 0.7665 - val_loss: 0.5207 - val_accuracy: 0.7520\n",
      "Epoch 127/150\n",
      "52/52 [==============================] - 0s 899us/step - loss: 0.4832 - accuracy: 0.7665 - val_loss: 0.5214 - val_accuracy: 0.7480\n",
      "Epoch 128/150\n",
      "52/52 [==============================] - 0s 882us/step - loss: 0.4885 - accuracy: 0.7510 - val_loss: 0.5289 - val_accuracy: 0.7559\n",
      "Epoch 129/150\n",
      "52/52 [==============================] - 0s 1ms/step - loss: 0.4890 - accuracy: 0.7782 - val_loss: 0.5343 - val_accuracy: 0.7441\n",
      "Epoch 130/150\n",
      "52/52 [==============================] - 0s 844us/step - loss: 0.4896 - accuracy: 0.7626 - val_loss: 0.5301 - val_accuracy: 0.7283\n",
      "Epoch 131/150\n",
      "52/52 [==============================] - 0s 921us/step - loss: 0.4811 - accuracy: 0.7646 - val_loss: 0.5210 - val_accuracy: 0.7559\n",
      "Epoch 132/150\n",
      "52/52 [==============================] - 0s 806us/step - loss: 0.4855 - accuracy: 0.7685 - val_loss: 0.5244 - val_accuracy: 0.7559\n",
      "Epoch 133/150\n",
      "52/52 [==============================] - 0s 825us/step - loss: 0.4801 - accuracy: 0.7704 - val_loss: 0.5169 - val_accuracy: 0.7638\n",
      "Epoch 134/150\n",
      "52/52 [==============================] - 0s 921us/step - loss: 0.4838 - accuracy: 0.7646 - val_loss: 0.5271 - val_accuracy: 0.7480\n",
      "Epoch 135/150\n",
      "52/52 [==============================] - 0s 1ms/step - loss: 0.4972 - accuracy: 0.7588 - val_loss: 0.5192 - val_accuracy: 0.7559\n",
      "Epoch 136/150\n",
      "52/52 [==============================] - 0s 980us/step - loss: 0.4787 - accuracy: 0.7743 - val_loss: 0.5200 - val_accuracy: 0.7559\n",
      "Epoch 137/150\n",
      "52/52 [==============================] - 0s 1ms/step - loss: 0.4819 - accuracy: 0.7510 - val_loss: 0.5312 - val_accuracy: 0.7480\n",
      "Epoch 138/150\n",
      "52/52 [==============================] - 0s 1ms/step - loss: 0.4771 - accuracy: 0.7665 - val_loss: 0.5232 - val_accuracy: 0.7559\n",
      "Epoch 139/150\n",
      "52/52 [==============================] - 0s 1ms/step - loss: 0.4827 - accuracy: 0.7782 - val_loss: 0.5244 - val_accuracy: 0.7559\n",
      "Epoch 140/150\n",
      "52/52 [==============================] - 0s 1ms/step - loss: 0.4814 - accuracy: 0.7724 - val_loss: 0.5196 - val_accuracy: 0.7638\n",
      "Epoch 141/150\n",
      "52/52 [==============================] - 0s 1ms/step - loss: 0.4794 - accuracy: 0.7724 - val_loss: 0.5165 - val_accuracy: 0.7677\n",
      "Epoch 142/150\n",
      "52/52 [==============================] - 0s 1ms/step - loss: 0.4834 - accuracy: 0.7568 - val_loss: 0.5301 - val_accuracy: 0.7598\n",
      "Epoch 143/150\n",
      "52/52 [==============================] - 0s 978us/step - loss: 0.4913 - accuracy: 0.7626 - val_loss: 0.5350 - val_accuracy: 0.7441\n",
      "Epoch 144/150\n",
      "52/52 [==============================] - 0s 1ms/step - loss: 0.4740 - accuracy: 0.7549 - val_loss: 0.5276 - val_accuracy: 0.7559\n",
      "Epoch 145/150\n",
      "52/52 [==============================] - 0s 1ms/step - loss: 0.4827 - accuracy: 0.7704 - val_loss: 0.5113 - val_accuracy: 0.7559\n",
      "Epoch 146/150\n",
      "52/52 [==============================] - 0s 978us/step - loss: 0.4793 - accuracy: 0.7763 - val_loss: 0.5142 - val_accuracy: 0.7677\n",
      "Epoch 147/150\n",
      "52/52 [==============================] - 0s 978us/step - loss: 0.4709 - accuracy: 0.7821 - val_loss: 0.5212 - val_accuracy: 0.7598\n",
      "Epoch 148/150\n",
      "52/52 [==============================] - 0s 1ms/step - loss: 0.4669 - accuracy: 0.7879 - val_loss: 0.5297 - val_accuracy: 0.7480\n",
      "Epoch 149/150\n",
      "52/52 [==============================] - 0s 1ms/step - loss: 0.4794 - accuracy: 0.7763 - val_loss: 0.5240 - val_accuracy: 0.7402\n",
      "Epoch 150/150\n",
      "52/52 [==============================] - 0s 1ms/step - loss: 0.4785 - accuracy: 0.7743 - val_loss: 0.5267 - val_accuracy: 0.7598\n",
      "24/24 [==============================] - 0s 623us/step - loss: 0.4943 - accuracy: 0.7578\n",
      "\n",
      "accuracy: 75.78%\n"
     ]
    }
   ],
   "source": [
    "from tensorflow.keras.models import Sequential\n",
    "from tensorflow.keras.layers import Dense\n",
    "import numpy\n",
    "numpy.random.seed(7)\n",
    "dataset = numpy.loadtxt(\"pima.data\", delimiter=\",\")\n",
    "X = dataset[:,0:8] # 8개 독립변수\n",
    "Y = dataset[:,8] # 종속변수\n",
    "model = Sequential()\n",
    "# ? * 8 / 8*12 => ?*12\n",
    "model.add(Dense(12, input_dim=8,kernel_initializer='uniform', activation='relu'))\n",
    "# ?*12 / 12*8 -> ?*8\n",
    "model.add(Dense(8,kernel_initializer='uniform', activation='relu'))\n",
    "# ? * 8 / 8*1 -> ?*1 분류\n",
    "model.add(Dense(1,kernel_initializer='uniform', activation='sigmoid')) # 0.5\n",
    "model.compile(loss='binary_crossentropy', optimizer='adam', metrics=['accuracy'])\n",
    "# 데이터 분리입력 (train, test) :과적합 되는상황이나옴\n",
    "# train, validation, test\n",
    "history = model.fit(X,Y,validation_split=0.33 ,epochs=150, batch_size=10)\n",
    "scores = model.evaluate(X,Y)\n",
    "print(\"\\n%s: %.2f%%\"%(model.metrics_names[1], scores[1]*100))"
   ]
  },
  {
   "cell_type": "code",
   "execution_count": 11,
   "metadata": {},
   "outputs": [
    {
     "name": "stdout",
     "output_type": "stream",
     "text": [
      "dict_keys(['val_loss', 'val_accuracy', 'loss', 'accuracy'])\n"
     ]
    },
    {
     "data": {
      "image/png": "[encoded data removed]",
      "text/plain": [
       "<Figure size 432x288 with 1 Axes>"
      ]
     },
     "metadata": {
      "needs_background": "light"
     },
     "output_type": "display_data"
    }
   ],
   "source": [
    "import matplotlib.pyplot as plt\n",
    "print(history.history.keys())\n",
    "# loss, accuracy\n",
    "plt.plot(history.history['accuracy'])\n",
    "plt.plot(history.history['loss'])\n",
    "plt.show()"
   ]
  },
  {
   "cell_type": "code",
   "execution_count": 12,
   "metadata": {},
   "outputs": [
    {
     "data": {
      "image/png": "[encoded data removed]",
      "text/plain": [
       "<Figure size 432x288 with 1 Axes>"
      ]
     },
     "metadata": {
      "needs_background": "light"
     },
     "output_type": "display_data"
    }
   ],
   "source": [
    "plt.plot(history.history['val_accuracy'])\n",
    "plt.plot(history.history['val_loss'])\n",
    "plt.show()"
   ]
  },
  {
   "cell_type": "code",
   "execution_count": 13,
   "metadata": {},
   "outputs": [
    {
     "data": {
      "image/png": "[encoded data removed]",
      "text/plain": [
       "<Figure size 432x288 with 1 Axes>"
      ]
     },
     "metadata": {
      "needs_background": "light"
     },
     "output_type": "display_data"
    }
   ],
   "source": [
    "plt.plot(history.history['accuracy'])\n",
    "plt.plot(history.history['val_accuracy'])\n",
    "plt.title('accuracy')\n",
    "plt.ylabel('accuracy')\n",
    "plt.xlabel('epoch')\n",
    "plt.legend(['train','test'], loc='upper left')\n",
    "plt.show()"
   ]
  },
  {
   "cell_type": "code",
   "execution_count": 14,
   "metadata": {},
   "outputs": [
    {
     "data": {
      "image/png": "[encoded data removed]",
      "text/plain": [
       "<Figure size 432x288 with 1 Axes>"
      ]
     },
     "metadata": {
      "needs_background": "light"
     },
     "output_type": "display_data"
    }
   ],
   "source": [
    "plt.plot(history.history['loss'])\n",
    "plt.plot(history.history['val_loss'])\n",
    "plt.title('loss')\n",
    "plt.ylabel('loss')\n",
    "plt.xlabel('epoch')\n",
    "plt.legend(['train','test'], loc='upper left')\n",
    "plt.show()"
   ]
  },
  {
   "cell_type": "code",
   "execution_count": 4,
   "metadata": {},
   "outputs": [],
   "source": [
    "from sklearn.preprocessing import scale\n",
    "from sklearn.model_selection import train_test_split\n",
    "from sklearn.datasets import make_moons\n",
    "import matplotlib.pyplot as plt\n",
    "X,Y = make_moons(noise=0.2, random_state=0, n_samples=1000)\n",
    "X = scale(X)\n",
    "X_train,X_test, Y_train,Y_test = train_test_split(X,Y,test_size=.3)"
   ]
  },
  {
   "cell_type": "code",
   "execution_count": 5,
   "metadata": {},
   "outputs": [
    {
     "data": {
      "text/plain": [
       "[Text(0, 0.5, 'Y'), Text(0.5, 0, 'X'), Text(0.5, 1.0, 'binary classification')]"
      ]
     },
     "execution_count": 5,
     "metadata": {},
     "output_type": "execute_result"
    },
    {
     "data": {
      "image/png": "[encoded data removed]",
      "text/plain": [
       "<Figure size 432x288 with 1 Axes>"
      ]
     },
     "metadata": {
      "needs_background": "light"
     },
     "output_type": "display_data"
    }
   ],
   "source": [
    "fig, ax = plt.subplots()\n",
    "ax.scatter(X[Y==0,0], X[Y==0,1], label='Class 0')\n",
    "ax.scatter(X[Y==1,0], X[Y==1,1], color='r', label='Class 1')\n",
    "ax.legend()\n",
    "ax.set(xlabel='X', ylabel='Y', title='binary classification')"
   ]
  },
  {
   "cell_type": "code",
   "execution_count": 8,
   "metadata": {},
   "outputs": [
    {
     "data": {
      "text/plain": [
       "(700, 2)"
      ]
     },
     "execution_count": 8,
     "metadata": {},
     "output_type": "execute_result"
    }
   ],
   "source": [
    "X_train.shape"
   ]
  },
  {
   "cell_type": "code",
   "execution_count": 1,
   "metadata": {},
   "outputs": [],
   "source": [
    "from tensorflow import keras\n",
    "from tensorflow.keras.models import Sequential\n",
    "from tensorflow.keras.layers import Dense\n",
    "import numpy\n",
    "# 비선형 모델 - 신경망\n",
    "model = Sequential()\n",
    "model.add(Dense(32, input_dim=2, activation='relu')) # 차원확대\n",
    "model.add(Dense(1, activation='sigmoid'))\n",
    "model.compile(optimizer='AdaDelta',loss='binary_crossentropy', metrics=['accuracy'])\n",
    "# callback 함수는 window 자동으로 호출되는 함수 / 이미지 출력할 준비를해라\n",
    "tb_callback = keras.callbacks.TensorBoard(log_dir='./Graph/model_1/',histogram_freq=100,write_graph=True,write_images=False)\n",
    "tb_callback.set_model(model) # 콜백을 모델에 등록"
   ]
  },
  {
   "cell_type": "code",
   "execution_count": 2,
   "metadata": {},
   "outputs": [
    {
     "name": "stdout",
     "output_type": "stream",
     "text": [
      "Model: \"sequential\"\n",
      "_________________________________________________________________\n",
      "Layer (type)                 Output Shape              Param #   \n",
      "=================================================================\n",
      "dense (Dense)                (None, 32)                96        \n",
      "_________________________________________________________________\n",
      "dense_1 (Dense)              (None, 1)                 33        \n",
      "=================================================================\n",
      "Total params: 129\n",
      "Trainable params: 129\n",
      "Non-trainable params: 0\n",
      "_________________________________________________________________\n"
     ]
    }
   ],
   "source": [
    "model.summary()"
   ]
  },
  {
   "cell_type": "code",
   "execution_count": 6,
   "metadata": {},
   "outputs": [
    {
     "name": "stdout",
     "output_type": "stream",
     "text": [
      "WARNING:tensorflow:From C:\\Users\\lyt09\\anaconda3\\lib\\site-packages\\tensorflow\\python\\ops\\summary_ops_v2.py:1277: stop (from tensorflow.python.eager.profiler) is deprecated and will be removed after 2020-07-01.\n",
      "Instructions for updating:\n",
      "use `tf.profiler.experimental.stop` instead.\n",
      "WARNING:tensorflow:Callbacks method `on_train_batch_end` is slow compared to the batch time (batch time: 0.0000s vs `on_train_batch_end` time: 0.0259s). Check your callbacks.\n"
     ]
    }
   ],
   "source": [
    "hist = model.fit(X_train,Y_train,batch_size=32, epochs=200,verbose=0,callbacks=[tb_callback] ,validation_data =(X_test,Y_test))"
   ]
  },
  {
   "cell_type": "code",
   "execution_count": 7,
   "metadata": {},
   "outputs": [
    {
     "name": "stdout",
     "output_type": "stream",
     "text": [
      "Test loss : 0.5815372467041016\n",
      "Test accuracy :  0.699999988079071\n"
     ]
    }
   ],
   "source": [
    "score = model.evaluate(X_test,Y_test, verbose=0)\n",
    "print(\"Test loss :\", score[0])\n",
    "print(\"Test accuracy : \", score[1])"
   ]
  },
  {
   "cell_type": "code",
   "execution_count": 8,
   "metadata": {},
   "outputs": [
    {
     "name": "stdout",
     "output_type": "stream",
     "text": [
      "Test loss: 0.5815372467041016\n",
      "Test accuracy : 0.699999988079071\n"
     ]
    }
   ],
   "source": [
    "score = model.evaluate(X_test, Y_test, verbose=0)\n",
    "print(\"Test loss:\",score[0])\n",
    "print(\"Test accuracy :\", score[1])"
   ]
  },
  {
   "cell_type": "code",
   "execution_count": 9,
   "metadata": {},
   "outputs": [],
   "source": [
    "# conda install graphviz\n",
    "# conda install pydot\n",
    "import pydot\n",
    "from tensorflow.keras.utils import model_to_dot"
   ]
  },
  {
   "cell_type": "code",
   "execution_count": 10,
   "metadata": {},
   "outputs": [
    {
     "name": "stdout",
     "output_type": "stream",
     "text": [
      "('Failed to import pydot. You must `pip install pydot` and install graphviz (https://graphviz.gitlab.io/download/), ', 'for `pydotprint` to work.')\n"
     ]
    }
   ],
   "source": [
    "from tensorflow.keras.utils import plot_model\n",
    "plot_model(model)"
   ]
  },
  {
   "cell_type": "code",
   "execution_count": 11,
   "metadata": {},
   "outputs": [
    {
     "name": "stdout",
     "output_type": "stream",
     "text": [
      "('Failed to import pydot. You must `pip install pydot` and install graphviz (https://graphviz.gitlab.io/download/), ', 'for `pydotprint` to work.')\n"
     ]
    }
   ],
   "source": [
    "%matplotlib inline\n",
    "model_to_dot(model)"
   ]
  },
  {
   "cell_type": "code",
   "execution_count": 12,
   "metadata": {},
   "outputs": [
    {
     "data": {
      "image/svg+xml": [
       "<svg height=\"255pt\" viewBox=\"0.00 0.00 174.00 191.00\" width=\"232pt\" xmlns=\"http://www.w3.org/2000/svg\" xmlns:xlink=\"http://www.w3.org/1999/xlink\">\n",
       "<g class=\"graph\" id=\"graph0\" transform=\"scale(1.33333 1.33333) rotate(0) translate(4 187)\">\n",
       "<title>G</title>\n",
       "<polygon fill=\"white\" points=\"-4,4 -4,-187 170,-187 170,4 -4,4\" stroke=\"none\"/>\n",
       "<!-- 1266221510152 -->\n",
       "<g class=\"node\" id=\"node1\"><title>1266221510152</title>\n",
       "<polygon fill=\"none\" points=\"0,-146.5 0,-182.5 166,-182.5 166,-146.5 0,-146.5\" stroke=\"black\"/>\n",
       "<text font-family=\"Times New Roman,serif\" font-size=\"14.00\" text-anchor=\"middle\" x=\"83\" y=\"-160.8\">dense_1_input: InputLayer</text>\n",
       "</g>\n",
       "<!-- 1266070378632 -->\n",
       "<g class=\"node\" id=\"node2\"><title>1266070378632</title>\n",
       "<polygon fill=\"none\" points=\"31,-73.5 31,-109.5 135,-109.5 135,-73.5 31,-73.5\" stroke=\"black\"/>\n",
       "<text font-family=\"Times New Roman,serif\" font-size=\"14.00\" text-anchor=\"middle\" x=\"83\" y=\"-87.8\">dense_1: Dense</text>\n",
       "</g>\n",
       "<!-- 1266221510152&#45;&gt;1266070378632 -->\n",
       "<g class=\"edge\" id=\"edge1\"><title>1266221510152-&gt;1266070378632</title>\n",
       "<path d=\"M83,-146.313C83,-138.289 83,-128.547 83,-119.569\" fill=\"none\" stroke=\"black\"/>\n",
       "<polygon fill=\"black\" points=\"86.5001,-119.529 83,-109.529 79.5001,-119.529 86.5001,-119.529\" stroke=\"black\"/>\n",
       "</g>\n",
       "<!-- 1266221507272 -->\n",
       "<g class=\"node\" id=\"node3\"><title>1266221507272</title>\n",
       "<polygon fill=\"none\" points=\"31,-0.5 31,-36.5 135,-36.5 135,-0.5 31,-0.5\" stroke=\"black\"/>\n",
       "<text font-family=\"Times New Roman,serif\" font-size=\"14.00\" text-anchor=\"middle\" x=\"83\" y=\"-14.8\">dense_2: Dense</text>\n",
       "</g>\n",
       "<!-- 1266070378632&#45;&gt;1266221507272 -->\n",
       "<g class=\"edge\" id=\"edge2\"><title>1266070378632-&gt;1266221507272</title>\n",
       "<path d=\"M83,-73.3129C83,-65.2895 83,-55.5475 83,-46.5691\" fill=\"none\" stroke=\"black\"/>\n",
       "<polygon fill=\"black\" points=\"86.5001,-46.5288 83,-36.5288 79.5001,-46.5289 86.5001,-46.5288\" stroke=\"black\"/>\n",
       "</g>\n",
       "</g>\n",
       "</svg>"
      ],
      "text/plain": [
       "<IPython.core.display.SVG object>"
      ]
     },
     "execution_count": 12,
     "metadata": {},
     "output_type": "execute_result"
    }
   ],
   "source": [
    "from IPython.display import Image, SVG\n",
    "SVG(model_to_dot(model).create(prog='dot', format='svg'))"
   ]
  },
  {
   "cell_type": "code",
   "execution_count": 13,
   "metadata": {},
   "outputs": [
    {
     "name": "stdout",
     "output_type": "stream",
     "text": [
      "Model: \"sequential_1\"\n",
      "_________________________________________________________________\n",
      "Layer (type)                 Output Shape              Param #   \n",
      "=================================================================\n",
      "dense_1 (Dense)              (None, 32)                96        \n",
      "_________________________________________________________________\n",
      "dense_2 (Dense)              (None, 1)                 33        \n",
      "=================================================================\n",
      "Total params: 129\n",
      "Trainable params: 129\n",
      "Non-trainable params: 0\n",
      "_________________________________________________________________\n"
     ]
    }
   ],
   "source": [
    "model.summary()"
   ]
  },
  {
   "cell_type": "code",
   "execution_count": 12,
   "metadata": {},
   "outputs": [],
   "source": [
    "# Callback class\n",
    "# Custum callback 함수 제작\n",
    "# 함수에 의해서 호출되는 객체\n",
    "class CustomHistory(keras.callbacks.Callback): # 상속\n",
    "    def init(self):\n",
    "        self.train_loss = []\n",
    "        self.val_loss = []\n",
    "        self.train_acc = []\n",
    "        self.val_acc = []\n",
    "    def on_epoch_end(self,batch, logs={}): # 오버라이딩\n",
    "        self.train_loss.append(logs.get('loss'))\n",
    "        self.val_loss.append(logs.get('val_loss'))\n",
    "        self.train_acc.append(logs.get('accuracy'))\n",
    "        self.val_acc.append(logs.get('val_accuracy'))"
   ]
  },
  {
   "cell_type": "code",
   "execution_count": 14,
   "metadata": {},
   "outputs": [
    {
     "name": "stdout",
     "output_type": "stream",
     "text": [
      "(60000, 28, 28) uint8\n",
      "(60000,) uint8\n",
      "(10000, 28, 28) uint8\n",
      "(10000,) uint8\n"
     ]
    }
   ],
   "source": [
    "from tensorflow.keras.datasets import mnist\n",
    "import matplotlib.pylab as plt\n",
    "from tensorflow.keras.models import Sequential\n",
    "from tensorflow.keras.layers import Dense\n",
    "(X_train0, y_train0), (X_test0, y_test0) = mnist.load_data()\n",
    "print(X_train0.shape, X_train0.dtype)\n",
    "print(y_train0.shape, y_train0.dtype)\n",
    "print(X_test0.shape, X_test0.dtype)\n",
    "print(y_test0.shape, y_test0.dtype)"
   ]
  },
  {
   "cell_type": "code",
   "execution_count": 16,
   "metadata": {},
   "outputs": [
    {
     "data": {
      "text/plain": [
       "<function matplotlib.pyplot.show(*args, **kw)>"
      ]
     },
     "execution_count": 16,
     "metadata": {},
     "output_type": "execute_result"
    },
    {
     "data": {
      "image/png": "[encoded data removed]",
      "text/plain": [
       "<Figure size 432x288 with 1 Axes>"
      ]
     },
     "metadata": {
      "needs_background": "light"
     },
     "output_type": "display_data"
    }
   ],
   "source": [
    "plt.imshow(X_train0[0])\n",
    "plt.grid(False)\n",
    "plt.show"
   ]
  },
  {
   "cell_type": "code",
   "execution_count": 17,
   "metadata": {},
   "outputs": [
    {
     "name": "stdout",
     "output_type": "stream",
     "text": [
      "(60000, 784) float32\n"
     ]
    }
   ],
   "source": [
    "X_train = X_train0.reshape(60000,784).astype('float32')/255.0\n",
    "X_test = X_test0.reshape(10000,784).astype('float32')/255.0\n",
    "print(X_train.shape, X_train.dtype) # 60000 * 784"
   ]
  },
  {
   "cell_type": "code",
   "execution_count": 18,
   "metadata": {},
   "outputs": [
    {
     "data": {
      "text/plain": [
       "array([5, 0, 4, 1, 9], dtype=uint8)"
      ]
     },
     "execution_count": 18,
     "metadata": {},
     "output_type": "execute_result"
    }
   ],
   "source": [
    "y_train0[:5]\n",
    "# one hot encoding 여부 : multi - label-> softmax\n",
    "# 경우에 수에 대한 확률값"
   ]
  },
  {
   "cell_type": "code",
   "execution_count": 20,
   "metadata": {},
   "outputs": [
    {
     "data": {
      "text/plain": [
       "array([[0., 0., 0., 0., 0., 1., 0., 0., 0., 0.],\n",
       "       [1., 0., 0., 0., 0., 0., 0., 0., 0., 0.],\n",
       "       [0., 0., 0., 0., 1., 0., 0., 0., 0., 0.],\n",
       "       [0., 1., 0., 0., 0., 0., 0., 0., 0., 0.],\n",
       "       [0., 0., 0., 0., 0., 0., 0., 0., 0., 1.]], dtype=float32)"
      ]
     },
     "execution_count": 20,
     "metadata": {},
     "output_type": "execute_result"
    }
   ],
   "source": [
    "from tensorflow.keras.utils import to_categorical\n",
    "Y_train = to_categorical(y_train0,10)\n",
    "Y_test = to_categorical(y_test0,10)\n",
    "Y_train[:5]"
   ]
  },
  {
   "cell_type": "code",
   "execution_count": 21,
   "metadata": {},
   "outputs": [],
   "source": [
    "from tensorflow.keras.optimizers import SGD\n",
    "import numpy as np\n",
    "np.random.seed(0)\n",
    "model = Sequential()\n",
    "# 60000 * 784\n",
    "model.add(Dense(512, input_dim=784, activation='sigmoid'))\n",
    "# 60000 * 15 / 15 *10 -> 60000*10\n",
    "model.add(Dense(15))\n",
    "model.add(Dense(10, activation='sigmoid'))\n",
    "# lr : learning rate\n",
    "# stochastic gradient descent\n",
    "model.compile(optimizer=SGD(lr=0.2), loss='mse', metrics=['accuracy'])"
   ]
  },
  {
   "cell_type": "code",
   "execution_count": 22,
   "metadata": {},
   "outputs": [
    {
     "data": {
      "text/plain": [
       "[<tensorflow.python.keras.layers.core.Dense at 0x1a3235c95e0>,\n",
       " <tensorflow.python.keras.layers.core.Dense at 0x1a33a18ff70>,\n",
       " <tensorflow.python.keras.layers.core.Dense at 0x1a336cdd6a0>]"
      ]
     },
     "execution_count": 22,
     "metadata": {},
     "output_type": "execute_result"
    }
   ],
   "source": [
    "model.layers"
   ]
  },
  {
   "cell_type": "code",
   "execution_count": 24,
   "metadata": {},
   "outputs": [
    {
     "name": "stdout",
     "output_type": "stream",
     "text": [
      "dense_2\n",
      "(None, 784)\n",
      "(None, 512)\n",
      "<function sigmoid at 0x000001A329CBCA60>\n"
     ]
    }
   ],
   "source": [
    "l1 = model.layers[0]\n",
    "l2 = model.layers[1]\n",
    "# 레이어 속성으로 정보확인\n",
    "print(l1.name)\n",
    "print(l1.input_shape)\n",
    "print(l1.output_shape)\n",
    "print(l1.activation)"
   ]
  },
  {
   "cell_type": "code",
   "execution_count": 29,
   "metadata": {},
   "outputs": [
    {
     "name": "stdout",
     "output_type": "stream",
     "text": [
      "Epoch 1/10\n",
      "1875/1875 - 3s - loss: 0.0335 - accuracy: 0.8309 - val_loss: 0.0283 - val_accuracy: 0.8728\n",
      "Epoch 2/10\n",
      "1875/1875 - 3s - loss: 0.0265 - accuracy: 0.8734 - val_loss: 0.0236 - val_accuracy: 0.8854\n",
      "Epoch 3/10\n",
      "1875/1875 - 3s - loss: 0.0230 - accuracy: 0.8846 - val_loss: 0.0207 - val_accuracy: 0.8974\n",
      "Epoch 4/10\n",
      "1875/1875 - 3s - loss: 0.0212 - accuracy: 0.8913 - val_loss: 0.0194 - val_accuracy: 0.8988\n",
      "Epoch 5/10\n",
      "1875/1875 - 3s - loss: 0.0201 - accuracy: 0.8955 - val_loss: 0.0189 - val_accuracy: 0.9034\n",
      "Epoch 6/10\n",
      "1875/1875 - 4s - loss: 0.0193 - accuracy: 0.8983 - val_loss: 0.0182 - val_accuracy: 0.9060\n",
      "Epoch 7/10\n",
      "1875/1875 - 3s - loss: 0.0188 - accuracy: 0.9008 - val_loss: 0.0175 - val_accuracy: 0.9072\n",
      "Epoch 8/10\n",
      "1875/1875 - 3s - loss: 0.0183 - accuracy: 0.9035 - val_loss: 0.0174 - val_accuracy: 0.9071\n",
      "Epoch 9/10\n",
      "1875/1875 - 3s - loss: 0.0179 - accuracy: 0.9048 - val_loss: 0.0167 - val_accuracy: 0.9122\n",
      "Epoch 10/10\n",
      "1875/1875 - 4s - loss: 0.0176 - accuracy: 0.9069 - val_loss: 0.0166 - val_accuracy: 0.9110\n"
     ]
    }
   ],
   "source": [
    "custom_hist = CustomHistory()\n",
    "custom_hist.init()\n",
    "hist = model.fit(X_train,Y_train, epochs=10, batch_size=32,validation_data=(X_test, Y_test),callbacks = [custom_hist], verbose=2)"
   ]
  },
  {
   "cell_type": "code",
   "execution_count": 30,
   "metadata": {},
   "outputs": [
    {
     "data": {
      "image/png": "[encoded data removed]",
      "text/plain": [
       "<Figure size 432x288 with 1 Axes>"
      ]
     },
     "metadata": {
      "needs_background": "light"
     },
     "output_type": "display_data"
    },
    {
     "data": {
      "text/plain": [
       "{'loss': [0.03348572924733162,\n",
       "  0.026536881923675537,\n",
       "  0.023021403700113297,\n",
       "  0.021196424961090088,\n",
       "  0.020075136795639992,\n",
       "  0.019326617941260338,\n",
       "  0.018750226125121117,\n",
       "  0.018291162326931953,\n",
       "  0.017897453159093857,\n",
       "  0.01755068451166153],\n",
       " 'accuracy': [0.8308666944503784,\n",
       "  0.8734166622161865,\n",
       "  0.8845999836921692,\n",
       "  0.8913333415985107,\n",
       "  0.895466685295105,\n",
       "  0.8982999920845032,\n",
       "  0.900783360004425,\n",
       "  0.9035000205039978,\n",
       "  0.9047999978065491,\n",
       "  0.9068999886512756],\n",
       " 'val_loss': [0.028269052505493164,\n",
       "  0.02355125918984413,\n",
       "  0.020665384829044342,\n",
       "  0.019440248608589172,\n",
       "  0.018909471109509468,\n",
       "  0.018171401694417,\n",
       "  0.017536969855427742,\n",
       "  0.017383433878421783,\n",
       "  0.01671355403959751,\n",
       "  0.016607042402029037],\n",
       " 'val_accuracy': [0.8727999925613403,\n",
       "  0.8853999972343445,\n",
       "  0.8974000215530396,\n",
       "  0.8988000154495239,\n",
       "  0.9034000039100647,\n",
       "  0.906000018119812,\n",
       "  0.9071999788284302,\n",
       "  0.9071000218391418,\n",
       "  0.9121999740600586,\n",
       "  0.9110000133514404]}"
      ]
     },
     "execution_count": 30,
     "metadata": {},
     "output_type": "execute_result"
    }
   ],
   "source": [
    "plt.plot(hist.history['loss'])\n",
    "plt.show()\n",
    "hist.history"
   ]
  },
  {
   "cell_type": "code",
   "execution_count": 32,
   "metadata": {},
   "outputs": [
    {
     "data": {
      "image/png": "[encoded data removed]",
      "text/plain": [
       "<Figure size 432x288 with 1 Axes>"
      ]
     },
     "metadata": {
      "needs_background": "light"
     },
     "output_type": "display_data"
    },
    {
     "name": "stdout",
     "output_type": "stream",
     "text": [
      "<tensorflow.python.keras.engine.sequential.Sequential object at 0x000001A33A1BEC40>\n",
      "{'verbose': 2, 'epochs': 10, 'steps': 1875}\n",
      "[0.8308666944503784, 0.8734166622161865, 0.8845999836921692, 0.8913333415985107, 0.895466685295105, 0.8982999920845032, 0.900783360004425, 0.9035000205039978, 0.9047999978065491, 0.9068999886512756]\n",
      "0.9110000133514404\n"
     ]
    },
    {
     "data": {
      "image/png": "[encoded data removed]",
      "text/plain": [
       "<Figure size 432x288 with 1 Axes>"
      ]
     },
     "metadata": {
      "needs_background": "light"
     },
     "output_type": "display_data"
    }
   ],
   "source": [
    "plt.plot(hist.history['accuracy'], 'b-', label='Training')\n",
    "plt.plot(hist.history['val_accuracy'], 'r:', label='test')\n",
    "plt.legend()\n",
    "plt.show()\n",
    "\n",
    "print(hist.model)\n",
    "print(hist.params)\n",
    "print(hist.history['accuracy'])\n",
    "print(hist.history['val_accuracy'][9])\n",
    "plt.show()\n",
    "plt.plot(custom_hist.train_loss, 'y', label='train loss')\n",
    "plt.show()"
   ]
  },
  {
   "cell_type": "code",
   "execution_count": 33,
   "metadata": {},
   "outputs": [
    {
     "data": {
      "text/plain": [
       "array([[6.2109232e-03, 5.4900710e-07, 1.4565855e-02, 3.5887808e-02,\n",
       "        4.1352403e-05, 1.1081398e-03, 4.5354878e-07, 9.9730408e-01,\n",
       "        1.1727006e-04, 6.7159534e-04]], dtype=float32)"
      ]
     },
     "execution_count": 33,
     "metadata": {},
     "output_type": "execute_result"
    }
   ],
   "source": [
    "model.predict(X_test[:1,:])"
   ]
  },
  {
   "cell_type": "code",
   "execution_count": 34,
   "metadata": {},
   "outputs": [
    {
     "data": {
      "text/plain": [
       "array([[6.2109232e-03, 5.4900710e-07, 1.4565855e-02, 3.5887808e-02,\n",
       "        4.1352403e-05, 1.1081398e-03, 4.5354878e-07, 9.9730408e-01,\n",
       "        1.1727006e-04, 6.7159534e-04]], dtype=float32)"
      ]
     },
     "execution_count": 34,
     "metadata": {},
     "output_type": "execute_result"
    }
   ],
   "source": [
    "# 문제 X_test의 이미지 한장의 label을 예측해보시오\n",
    "model.predict(X_test[:1,:])"
   ]
  },
  {
   "cell_type": "code",
   "execution_count": 35,
   "metadata": {},
   "outputs": [
    {
     "name": "stdout",
     "output_type": "stream",
     "text": [
      "WARNING:tensorflow:From <ipython-input-35-8a9e076f0da5>:1: Sequential.predict_classes (from tensorflow.python.keras.engine.sequential) is deprecated and will be removed after 2021-01-01.\n",
      "Instructions for updating:\n",
      "Please use instead:* `np.argmax(model.predict(x), axis=-1)`,   if your model does multi-class classification   (e.g. if it uses a `softmax` last-layer activation).* `(model.predict(x) > 0.5).astype(\"int32\")`,   if your model does binary classification   (e.g. if it uses a `sigmoid` last-layer activation).\n"
     ]
    },
    {
     "data": {
      "text/plain": [
       "array([7], dtype=int64)"
      ]
     },
     "execution_count": 35,
     "metadata": {},
     "output_type": "execute_result"
    }
   ],
   "source": [
    "model.predict_classes(X_test[:1,:], verbose=0)"
   ]
  },
  {
   "cell_type": "code",
   "execution_count": 36,
   "metadata": {},
   "outputs": [
    {
     "name": "stdout",
     "output_type": "stream",
     "text": [
      "Downloading data from https://storage.googleapis.com/tensorflow/tf-keras-datasets/boston_housing.npz\n",
      "57344/57026 [==============================] - 0s 0us/step\n"
     ]
    }
   ],
   "source": [
    "# 보스턴집값예측\n",
    "from tensorflow.keras.datasets import boston_housing\n",
    "(x_train, y_train), (x_test, y_test) = boston_housing.load_data()"
   ]
  },
  {
   "cell_type": "code",
   "execution_count": 37,
   "metadata": {},
   "outputs": [],
   "source": [
    "num_faetures=13\n",
    "model = Sequential()\n",
    "model.add(Dense(1, input_dim=num_faetures, activation='linear'))"
   ]
  },
  {
   "cell_type": "code",
   "execution_count": 38,
   "metadata": {},
   "outputs": [
    {
     "name": "stdout",
     "output_type": "stream",
     "text": [
      "Model: \"sequential_2\"\n",
      "_________________________________________________________________\n",
      "Layer (type)                 Output Shape              Param #   \n",
      "=================================================================\n",
      "dense_5 (Dense)              (None, 1)                 14        \n",
      "=================================================================\n",
      "Total params: 14\n",
      "Trainable params: 14\n",
      "Non-trainable params: 0\n",
      "_________________________________________________________________\n",
      "Epoch 1/10\n",
      "404/404 [==============================] - 0s 462us/step - loss: 46348.9062 - mae: 192.8823\n",
      "Epoch 2/10\n",
      "404/404 [==============================] - 0s 365us/step - loss: 306.5411 - mae: 13.7649\n",
      "Epoch 3/10\n",
      "404/404 [==============================] - 0s 397us/step - loss: 141.6203 - mae: 9.5426\n",
      "Epoch 4/10\n",
      "404/404 [==============================] - 0s 588us/step - loss: 113.8913 - mae: 8.2782\n",
      "Epoch 5/10\n",
      "404/404 [==============================] - 0s 463us/step - loss: 95.0634 - mae: 7.5620\n",
      "Epoch 6/10\n",
      "404/404 [==============================] - 0s 513us/step - loss: 79.1631 - mae: 6.9111\n",
      "Epoch 7/10\n",
      "404/404 [==============================] - 0s 597us/step - loss: 71.5609 - mae: 6.4469\n",
      "Epoch 8/10\n",
      "404/404 [==============================] - 0s 701us/step - loss: 64.2840 - mae: 6.0288\n",
      "Epoch 9/10\n",
      "404/404 [==============================] - 0s 625us/step - loss: 60.5084 - mae: 5.9006\n",
      "Epoch 10/10\n",
      "404/404 [==============================] - 0s 454us/step - loss: 57.9359 - mae: 5.6564\n"
     ]
    },
    {
     "data": {
      "text/plain": [
       "<tensorflow.python.keras.callbacks.History at 0x1a33b99a520>"
      ]
     },
     "execution_count": 38,
     "metadata": {},
     "output_type": "execute_result"
    }
   ],
   "source": [
    "model.summary()\n",
    "model.compile(optimizer='rmsprop', loss='mse', metrics=['mae'])\n",
    "model.fit(x_train, y_train, batch_size=1, epochs=10, verbose=1)"
   ]
  },
  {
   "cell_type": "code",
   "execution_count": 40,
   "metadata": {},
   "outputs": [
    {
     "name": "stdout",
     "output_type": "stream",
     "text": [
      "71.7118148803711 8.468282876733104 6.279849052429199\n"
     ]
    }
   ],
   "source": [
    "# mae\n",
    "mse, mae = model.evaluate(x_test,y_test,verbose=False)\n",
    "rmse= np.sqrt(mse)\n",
    "print(mse,rmse,mae)"
   ]
  },
  {
   "cell_type": "code",
   "execution_count": null,
   "metadata": {},
   "outputs": [],
   "source": [
    "# 문제 : x_test의 3집을 예상하시오.\n",
    "model.evaluate(x_test,y_test,verbose=False)"
   ]
  },
  {
   "cell_type": "code",
   "execution_count": 58,
   "metadata": {},
   "outputs": [
    {
     "name": "stdout",
     "output_type": "stream",
     "text": [
      "[[ 8.539891]\n",
      " [19.76989 ]\n",
      " [27.80211 ]]\n",
      "실제집값 : [ 7.2 18.8 19. ]\n"
     ]
    }
   ],
   "source": [
    "pred = model.predict(x_test[:3,:])\n",
    "real = y_test[:3]\n",
    "print(model.predict(x_test[:3,:]))\n",
    "print('실제집값 :', y_test[:3])"
   ]
  },
  {
   "cell_type": "code",
   "execution_count": 59,
   "metadata": {},
   "outputs": [],
   "source": [
    "pred =pred.reshape(3)"
   ]
  },
  {
   "cell_type": "code",
   "execution_count": 60,
   "metadata": {},
   "outputs": [
    {
     "data": {
      "text/plain": [
       "array([[1.       , 0.9158244],\n",
       "       [0.9158244, 1.       ]])"
      ]
     },
     "execution_count": 60,
     "metadata": {},
     "output_type": "execute_result"
    }
   ],
   "source": [
    "import numpy as np\n",
    "np.corrcoef(pred,real)"
   ]
  },
  {
   "cell_type": "code",
   "execution_count": 41,
   "metadata": {},
   "outputs": [],
   "source": [
    "import numpy as np\n",
    "from sklearn.model_selection import GridSearchCV\n",
    "from tensorflow.keras.models import Sequential\n",
    "from tensorflow.keras.layers import Dense\n",
    "from tensorflow.keras.wrappers.scikit_learn import KerasClassifier\n",
    "# 케라스랑 사이킷 연결해주는거  KerasClassifier , regressor"
   ]
  },
  {
   "cell_type": "code",
   "execution_count": 42,
   "metadata": {},
   "outputs": [],
   "source": [
    "def create_model():\n",
    "    model = Sequential()\n",
    "    model.add(Dense(12, input_dim=8, activation='relu'))\n",
    "    model.add(Dense(1,activation='sigmoid'))\n",
    "    model.compile(loss='binary_crossentropy', optimizer='adam',metrics=['accuracy'])\n",
    "    return model\n",
    "seed=7\n",
    "np.random.seed(seed)\n",
    "dataset = np.loadtxt('pima.data',delimiter=',')\n",
    "#dataset = dataset.dropna()\n",
    "X = dataset[:,0:8]\n",
    "Y = dataset[:,8]\n",
    "model = KerasClassifier(build_fn=create_model, verbose=1)"
   ]
  },
  {
   "cell_type": "code",
   "execution_count": 44,
   "metadata": {},
   "outputs": [
    {
     "name": "stdout",
     "output_type": "stream",
     "text": [
      "Epoch 1/100\n",
      "48/48 [==============================] - 0s 503us/step - loss: 13.3575 - accuracy: 0.5924\n",
      "Epoch 2/100\n",
      "48/48 [==============================] - 0s 603us/step - loss: 5.9777 - accuracy: 0.4570\n",
      "Epoch 3/100\n",
      "48/48 [==============================] - 0s 457us/step - loss: 4.0852 - accuracy: 0.4831\n",
      "Epoch 4/100\n",
      "48/48 [==============================] - 0s 540us/step - loss: 3.3750 - accuracy: 0.5039\n",
      "Epoch 5/100\n",
      "48/48 [==============================] - 0s 395us/step - loss: 2.8231 - accuracy: 0.5078\n",
      "Epoch 6/100\n",
      "48/48 [==============================] - 0s 457us/step - loss: 2.3535 - accuracy: 0.5365\n",
      "Epoch 7/100\n",
      "48/48 [==============================] - 0s 395us/step - loss: 1.9243 - accuracy: 0.5312\n",
      "Epoch 8/100\n",
      "48/48 [==============================] - 0s 457us/step - loss: 1.4575 - accuracy: 0.5807\n",
      "Epoch 9/100\n",
      "48/48 [==============================] - 0s 499us/step - loss: 1.2078 - accuracy: 0.6133\n",
      "Epoch 10/100\n",
      "48/48 [==============================] - 0s 457us/step - loss: 1.0670 - accuracy: 0.6081\n",
      "Epoch 11/100\n",
      "48/48 [==============================] - 0s 395us/step - loss: 0.9863 - accuracy: 0.6341\n",
      "Epoch 12/100\n",
      "48/48 [==============================] - 0s 457us/step - loss: 0.9186 - accuracy: 0.6211\n",
      "Epoch 13/100\n",
      "48/48 [==============================] - 0s 499us/step - loss: 0.8854 - accuracy: 0.6289\n",
      "Epoch 14/100\n",
      "48/48 [==============================] - 0s 582us/step - loss: 0.8396 - accuracy: 0.6445\n",
      "Epoch 15/100\n",
      "48/48 [==============================] - 0s 623us/step - loss: 0.8246 - accuracy: 0.6497\n",
      "Epoch 16/100\n",
      "48/48 [==============================] - 0s 457us/step - loss: 0.7968 - accuracy: 0.6380\n",
      "Epoch 17/100\n",
      "48/48 [==============================] - 0s 457us/step - loss: 0.7688 - accuracy: 0.6693\n",
      "Epoch 18/100\n",
      "48/48 [==============================] - 0s 436us/step - loss: 0.7840 - accuracy: 0.6602\n",
      "Epoch 19/100\n",
      "48/48 [==============================] - 0s 478us/step - loss: 0.7506 - accuracy: 0.6680\n",
      "Epoch 20/100\n",
      "48/48 [==============================] - 0s 478us/step - loss: 0.7339 - accuracy: 0.6849\n",
      "Epoch 21/100\n",
      "48/48 [==============================] - 0s 457us/step - loss: 0.7319 - accuracy: 0.6693\n",
      "Epoch 22/100\n",
      "48/48 [==============================] - 0s 436us/step - loss: 0.7363 - accuracy: 0.6732\n",
      "Epoch 23/100\n",
      "48/48 [==============================] - 0s 499us/step - loss: 0.7155 - accuracy: 0.6784\n",
      "Epoch 24/100\n",
      "48/48 [==============================] - 0s 457us/step - loss: 0.7028 - accuracy: 0.6823\n",
      "Epoch 25/100\n",
      "48/48 [==============================] - 0s 395us/step - loss: 0.7110 - accuracy: 0.6771\n",
      "Epoch 26/100\n",
      "48/48 [==============================] - 0s 457us/step - loss: 0.6811 - accuracy: 0.6849\n",
      "Epoch 27/100\n",
      "48/48 [==============================] - 0s 499us/step - loss: 0.6862 - accuracy: 0.6823\n",
      "Epoch 28/100\n",
      "48/48 [==============================] - 0s 478us/step - loss: 0.6922 - accuracy: 0.6836\n",
      "Epoch 29/100\n",
      "48/48 [==============================] - 0s 395us/step - loss: 0.6662 - accuracy: 0.6784\n",
      "Epoch 30/100\n",
      "48/48 [==============================] - 0s 519us/step - loss: 0.6634 - accuracy: 0.6849\n",
      "Epoch 31/100\n",
      "48/48 [==============================] - 0s 478us/step - loss: 0.6561 - accuracy: 0.6927\n",
      "Epoch 32/100\n",
      "48/48 [==============================] - 0s 478us/step - loss: 0.6541 - accuracy: 0.6862\n",
      "Epoch 33/100\n",
      "48/48 [==============================] - 0s 478us/step - loss: 0.6668 - accuracy: 0.6784\n",
      "Epoch 34/100\n",
      "48/48 [==============================] - 0s 395us/step - loss: 0.6458 - accuracy: 0.7057\n",
      "Epoch 35/100\n",
      "48/48 [==============================] - 0s 457us/step - loss: 0.6491 - accuracy: 0.6927\n",
      "Epoch 36/100\n",
      "48/48 [==============================] - 0s 457us/step - loss: 0.6453 - accuracy: 0.7135\n",
      "Epoch 37/100\n",
      "48/48 [==============================] - 0s 457us/step - loss: 0.6426 - accuracy: 0.6758\n",
      "Epoch 38/100\n",
      "48/48 [==============================] - 0s 416us/step - loss: 0.6276 - accuracy: 0.6875\n",
      "Epoch 39/100\n",
      "48/48 [==============================] - 0s 457us/step - loss: 0.6594 - accuracy: 0.6875\n",
      "Epoch 40/100\n",
      "48/48 [==============================] - 0s 374us/step - loss: 0.6226 - accuracy: 0.7083\n",
      "Epoch 41/100\n",
      "48/48 [==============================] - 0s 478us/step - loss: 0.6227 - accuracy: 0.6862\n",
      "Epoch 42/100\n",
      "48/48 [==============================] - 0s 395us/step - loss: 0.6260 - accuracy: 0.7083\n",
      "Epoch 43/100\n",
      "48/48 [==============================] - 0s 457us/step - loss: 0.6436 - accuracy: 0.6784\n",
      "Epoch 44/100\n",
      "48/48 [==============================] - 0s 519us/step - loss: 0.6139 - accuracy: 0.6979\n",
      "Epoch 45/100\n",
      "48/48 [==============================] - 0s 478us/step - loss: 0.6017 - accuracy: 0.6953\n",
      "Epoch 46/100\n",
      "48/48 [==============================] - 0s 478us/step - loss: 0.6077 - accuracy: 0.7096\n",
      "Epoch 47/100\n",
      "48/48 [==============================] - 0s 416us/step - loss: 0.6006 - accuracy: 0.6966\n",
      "Epoch 48/100\n",
      "48/48 [==============================] - 0s 478us/step - loss: 0.5897 - accuracy: 0.7240\n",
      "Epoch 49/100\n",
      "48/48 [==============================] - 0s 395us/step - loss: 0.5969 - accuracy: 0.7096\n",
      "Epoch 50/100\n",
      "48/48 [==============================] - 0s 457us/step - loss: 0.6021 - accuracy: 0.7122\n",
      "Epoch 51/100\n",
      "48/48 [==============================] - 0s 416us/step - loss: 0.5859 - accuracy: 0.7279\n",
      "Epoch 52/100\n",
      "48/48 [==============================] - 0s 454us/step - loss: 0.5865 - accuracy: 0.7083\n",
      "Epoch 53/100\n",
      "48/48 [==============================] - 0s 478us/step - loss: 0.5971 - accuracy: 0.7057\n",
      "Epoch 54/100\n",
      "48/48 [==============================] - 0s 416us/step - loss: 0.5833 - accuracy: 0.7083\n",
      "Epoch 55/100\n",
      "48/48 [==============================] - 0s 519us/step - loss: 0.5903 - accuracy: 0.7174\n",
      "Epoch 56/100\n",
      "48/48 [==============================] - 0s 478us/step - loss: 0.5876 - accuracy: 0.7214\n",
      "Epoch 57/100\n",
      "48/48 [==============================] - 0s 519us/step - loss: 0.5895 - accuracy: 0.7266\n",
      "Epoch 58/100\n",
      "48/48 [==============================] - 0s 478us/step - loss: 0.5680 - accuracy: 0.7344\n",
      "Epoch 59/100\n",
      "48/48 [==============================] - 0s 457us/step - loss: 0.5816 - accuracy: 0.7135\n",
      "Epoch 60/100\n",
      "48/48 [==============================] - 0s 478us/step - loss: 0.5868 - accuracy: 0.7109\n",
      "Epoch 61/100\n",
      "48/48 [==============================] - 0s 457us/step - loss: 0.5747 - accuracy: 0.7188\n",
      "Epoch 62/100\n",
      "48/48 [==============================] - 0s 478us/step - loss: 0.5823 - accuracy: 0.7201\n",
      "Epoch 63/100\n",
      "48/48 [==============================] - 0s 478us/step - loss: 0.5721 - accuracy: 0.7174\n",
      "Epoch 64/100\n",
      "48/48 [==============================] - 0s 499us/step - loss: 0.5762 - accuracy: 0.7044\n",
      "Epoch 65/100\n",
      "48/48 [==============================] - 0s 499us/step - loss: 0.5663 - accuracy: 0.7279\n",
      "Epoch 66/100\n",
      "48/48 [==============================] - 0s 457us/step - loss: 0.5778 - accuracy: 0.7148\n",
      "Epoch 67/100\n",
      "48/48 [==============================] - 0s 457us/step - loss: 0.6067 - accuracy: 0.7122\n",
      "Epoch 68/100\n",
      "48/48 [==============================] - 0s 457us/step - loss: 0.6701 - accuracy: 0.6654\n",
      "Epoch 69/100\n",
      "48/48 [==============================] - 0s 457us/step - loss: 0.5715 - accuracy: 0.7201\n",
      "Epoch 70/100\n",
      "48/48 [==============================] - 0s 457us/step - loss: 0.5581 - accuracy: 0.7292\n",
      "Epoch 71/100\n",
      "48/48 [==============================] - 0s 499us/step - loss: 0.5539 - accuracy: 0.7331\n",
      "Epoch 72/100\n",
      "48/48 [==============================] - 0s 457us/step - loss: 0.5849 - accuracy: 0.7148\n",
      "Epoch 73/100\n",
      "48/48 [==============================] - 0s 478us/step - loss: 0.5828 - accuracy: 0.7083\n",
      "Epoch 74/100\n",
      "48/48 [==============================] - 0s 499us/step - loss: 0.5751 - accuracy: 0.7122\n",
      "Epoch 75/100\n",
      "48/48 [==============================] - 0s 478us/step - loss: 0.5779 - accuracy: 0.7044\n",
      "Epoch 76/100\n",
      "48/48 [==============================] - 0s 436us/step - loss: 0.5661 - accuracy: 0.7253\n",
      "Epoch 77/100\n",
      "48/48 [==============================] - 0s 457us/step - loss: 0.5568 - accuracy: 0.7422\n",
      "Epoch 78/100\n",
      "48/48 [==============================] - 0s 457us/step - loss: 0.5680 - accuracy: 0.7227\n",
      "Epoch 79/100\n",
      "48/48 [==============================] - 0s 499us/step - loss: 0.5603 - accuracy: 0.7331\n",
      "Epoch 80/100\n",
      "48/48 [==============================] - 0s 457us/step - loss: 0.5569 - accuracy: 0.7383\n",
      "Epoch 81/100\n",
      "48/48 [==============================] - 0s 478us/step - loss: 0.5543 - accuracy: 0.7383\n",
      "Epoch 82/100\n",
      "48/48 [==============================] - 0s 478us/step - loss: 0.5627 - accuracy: 0.7240\n",
      "Epoch 83/100\n",
      "48/48 [==============================] - 0s 478us/step - loss: 0.5675 - accuracy: 0.7135\n",
      "Epoch 84/100\n",
      "48/48 [==============================] - 0s 374us/step - loss: 0.5547 - accuracy: 0.7318\n",
      "Epoch 85/100\n",
      "48/48 [==============================] - 0s 457us/step - loss: 0.5490 - accuracy: 0.7266\n",
      "Epoch 86/100\n",
      "48/48 [==============================] - 0s 478us/step - loss: 0.5767 - accuracy: 0.7109\n",
      "Epoch 87/100\n",
      "48/48 [==============================] - 0s 457us/step - loss: 0.5636 - accuracy: 0.7161\n",
      "Epoch 88/100\n",
      "48/48 [==============================] - 0s 457us/step - loss: 0.5584 - accuracy: 0.7409\n",
      "Epoch 89/100\n",
      "48/48 [==============================] - 0s 499us/step - loss: 0.5645 - accuracy: 0.7318\n",
      "Epoch 90/100\n",
      "48/48 [==============================] - 0s 540us/step - loss: 0.5581 - accuracy: 0.7227\n",
      "Epoch 91/100\n",
      "48/48 [==============================] - 0s 540us/step - loss: 0.5546 - accuracy: 0.7253\n",
      "Epoch 92/100\n",
      "48/48 [==============================] - 0s 457us/step - loss: 0.5577 - accuracy: 0.7331\n",
      "Epoch 93/100\n",
      "48/48 [==============================] - 0s 457us/step - loss: 0.5560 - accuracy: 0.7292\n",
      "Epoch 94/100\n",
      "48/48 [==============================] - 0s 436us/step - loss: 0.5429 - accuracy: 0.7435\n",
      "Epoch 95/100\n",
      "48/48 [==============================] - 0s 478us/step - loss: 0.5614 - accuracy: 0.7292\n",
      "Epoch 96/100\n",
      "48/48 [==============================] - 0s 499us/step - loss: 0.5690 - accuracy: 0.7227\n",
      "Epoch 97/100\n",
      "48/48 [==============================] - 0s 457us/step - loss: 0.5681 - accuracy: 0.7174\n",
      "Epoch 98/100\n",
      "48/48 [==============================] - 0s 457us/step - loss: 0.5532 - accuracy: 0.7487\n",
      "Epoch 99/100\n",
      "48/48 [==============================] - 0s 436us/step - loss: 0.5470 - accuracy: 0.7357\n",
      "Epoch 100/100\n",
      "48/48 [==============================] - 0s 457us/step - loss: 0.5426 - accuracy: 0.7435\n",
      "최적스코어 : 0.700543      사용한 파라미터조합 : {'batch_size': 16, 'epochs': 100}\n",
      "0.585935 (0.022451) with : {'batch_size': 16, 'epochs': 10}\n",
      "0.678440 (0.026824) with : {'batch_size': 16, 'epochs': 50}\n",
      "0.700543 (0.054053) with : {'batch_size': 16, 'epochs': 100}\n",
      "0.578321 (0.090383) with : {'batch_size': 32, 'epochs': 10}\n",
      "0.647186 (0.041309) with : {'batch_size': 32, 'epochs': 50}\n",
      "0.699262 (0.028545) with : {'batch_size': 32, 'epochs': 100}\n",
      "0.527383 (0.054202) with : {'batch_size': 64, 'epochs': 10}\n",
      "0.662889 (0.048762) with : {'batch_size': 64, 'epochs': 50}\n",
      "0.656362 (0.047308) with : {'batch_size': 64, 'epochs': 100}\n",
      "0.548375 (0.115079) with : {'batch_size': 128, 'epochs': 10}\n",
      "0.614608 (0.064973) with : {'batch_size': 128, 'epochs': 50}\n",
      "0.652449 (0.038027) with : {'batch_size': 128, 'epochs': 100}\n",
      "0.398217 (0.099459) with : {'batch_size': 256, 'epochs': 10}\n",
      "0.584840 (0.088266) with : {'batch_size': 256, 'epochs': 50}\n",
      "0.615873 (0.053336) with : {'batch_size': 256, 'epochs': 100}\n"
     ]
    }
   ],
   "source": [
    "batch_size = [16,32,64,128,256]\n",
    "epochs=[10,50,100]\n",
    "# 매개변수 입력 형태는 dict\n",
    "param_grid = dict(batch_size=batch_size, epochs=epochs)\n",
    "grid = GridSearchCV(estimator=model, param_grid=param_grid, n_jobs=-1) # -1은 CPU 전체다 사용해라\n",
    "grid_result = grid.fit(X, Y)\n",
    "print(\"최적스코어 : %f      사용한 파라미터조합 : %s\"%(grid_result.best_score_, grid_result.best_params_))\n",
    "means = grid_result.cv_results_['mean_test_score']\n",
    "stds = grid_result.cv_results_['std_test_score']\n",
    "params = grid_result.cv_results_['params']\n",
    "for mean, stdev, param in zip(means, stds, params):\n",
    "    print(\"%f (%f) with : %r\" %(mean,stdev,param))"
   ]
  },
  {
   "cell_type": "code",
   "execution_count": 1,
   "metadata": {
    "collapsed": true,
    "jupyter": {
     "outputs_hidden": true
    }
   },
   "outputs": [
    {
     "name": "stderr",
     "output_type": "stream",
     "text": [
      "Using TensorFlow backend.\n",
      "C:\\Users\\ICT01_06\\Anaconda3\\envs\\tf_test\\lib\\site-packages\\tensorflow\\python\\framework\\dtypes.py:516: FutureWarning: Passing (type, 1) or '1type' as a synonym of type is deprecated; in a future version of numpy, it will be understood as (type, (1,)) / '(1,)type'.\n",
      "  _np_qint8 = np.dtype([(\"qint8\", np.int8, 1)])\n",
      "C:\\Users\\ICT01_06\\Anaconda3\\envs\\tf_test\\lib\\site-packages\\tensorflow\\python\\framework\\dtypes.py:517: FutureWarning: Passing (type, 1) or '1type' as a synonym of type is deprecated; in a future version of numpy, it will be understood as (type, (1,)) / '(1,)type'.\n",
      "  _np_quint8 = np.dtype([(\"quint8\", np.uint8, 1)])\n",
      "C:\\Users\\ICT01_06\\Anaconda3\\envs\\tf_test\\lib\\site-packages\\tensorflow\\python\\framework\\dtypes.py:518: FutureWarning: Passing (type, 1) or '1type' as a synonym of type is deprecated; in a future version of numpy, it will be understood as (type, (1,)) / '(1,)type'.\n",
      "  _np_qint16 = np.dtype([(\"qint16\", np.int16, 1)])\n",
      "C:\\Users\\ICT01_06\\Anaconda3\\envs\\tf_test\\lib\\site-packages\\tensorflow\\python\\framework\\dtypes.py:519: FutureWarning: Passing (type, 1) or '1type' as a synonym of type is deprecated; in a future version of numpy, it will be understood as (type, (1,)) / '(1,)type'.\n",
      "  _np_quint16 = np.dtype([(\"quint16\", np.uint16, 1)])\n",
      "C:\\Users\\ICT01_06\\Anaconda3\\envs\\tf_test\\lib\\site-packages\\tensorflow\\python\\framework\\dtypes.py:520: FutureWarning: Passing (type, 1) or '1type' as a synonym of type is deprecated; in a future version of numpy, it will be understood as (type, (1,)) / '(1,)type'.\n",
      "  _np_qint32 = np.dtype([(\"qint32\", np.int32, 1)])\n",
      "C:\\Users\\ICT01_06\\Anaconda3\\envs\\tf_test\\lib\\site-packages\\tensorflow\\python\\framework\\dtypes.py:525: FutureWarning: Passing (type, 1) or '1type' as a synonym of type is deprecated; in a future version of numpy, it will be understood as (type, (1,)) / '(1,)type'.\n",
      "  np_resource = np.dtype([(\"resource\", np.ubyte, 1)])\n",
      "C:\\Users\\ICT01_06\\Anaconda3\\envs\\tf_test\\lib\\site-packages\\tensorboard\\compat\\tensorflow_stub\\dtypes.py:541: FutureWarning: Passing (type, 1) or '1type' as a synonym of type is deprecated; in a future version of numpy, it will be understood as (type, (1,)) / '(1,)type'.\n",
      "  _np_qint8 = np.dtype([(\"qint8\", np.int8, 1)])\n",
      "C:\\Users\\ICT01_06\\Anaconda3\\envs\\tf_test\\lib\\site-packages\\tensorboard\\compat\\tensorflow_stub\\dtypes.py:542: FutureWarning: Passing (type, 1) or '1type' as a synonym of type is deprecated; in a future version of numpy, it will be understood as (type, (1,)) / '(1,)type'.\n",
      "  _np_quint8 = np.dtype([(\"quint8\", np.uint8, 1)])\n",
      "C:\\Users\\ICT01_06\\Anaconda3\\envs\\tf_test\\lib\\site-packages\\tensorboard\\compat\\tensorflow_stub\\dtypes.py:543: FutureWarning: Passing (type, 1) or '1type' as a synonym of type is deprecated; in a future version of numpy, it will be understood as (type, (1,)) / '(1,)type'.\n",
      "  _np_qint16 = np.dtype([(\"qint16\", np.int16, 1)])\n",
      "C:\\Users\\ICT01_06\\Anaconda3\\envs\\tf_test\\lib\\site-packages\\tensorboard\\compat\\tensorflow_stub\\dtypes.py:544: FutureWarning: Passing (type, 1) or '1type' as a synonym of type is deprecated; in a future version of numpy, it will be understood as (type, (1,)) / '(1,)type'.\n",
      "  _np_quint16 = np.dtype([(\"quint16\", np.uint16, 1)])\n",
      "C:\\Users\\ICT01_06\\Anaconda3\\envs\\tf_test\\lib\\site-packages\\tensorboard\\compat\\tensorflow_stub\\dtypes.py:545: FutureWarning: Passing (type, 1) or '1type' as a synonym of type is deprecated; in a future version of numpy, it will be understood as (type, (1,)) / '(1,)type'.\n",
      "  _np_qint32 = np.dtype([(\"qint32\", np.int32, 1)])\n",
      "C:\\Users\\ICT01_06\\Anaconda3\\envs\\tf_test\\lib\\site-packages\\tensorboard\\compat\\tensorflow_stub\\dtypes.py:550: FutureWarning: Passing (type, 1) or '1type' as a synonym of type is deprecated; in a future version of numpy, it will be understood as (type, (1,)) / '(1,)type'.\n",
      "  np_resource = np.dtype([(\"resource\", np.ubyte, 1)])\n"
     ]
    }
   ],
   "source": [
    "import numpy\n",
    "from sklearn.model_selection import GridSearchCV\n",
    "from keras.models import Sequential\n",
    "from keras.layers import Dense\n",
    "from keras.wrappers.scikit_learn import KerasClassifier\n",
    "\n",
    "def create_model():\n",
    "    model = Sequential()\n",
    "    model.add(Dense(12, input_dim=8, activation='relu'))\n",
    "    model.add(Dense(1, activation='sigmoid'))\n",
    "    model.compile(loss='binary_crossentropy', optimizer='adam',\n",
    "                 metrics=['accuracy'])\n",
    "    return model\n",
    "\n",
    "seed = 7\n",
    "numpy.random.seed(seed)\n",
    "dataset = numpy.loadtxt(\"pima.data\", delimiter=\",\") #원랜 csv인데 없당\n",
    "X = dataset[:, 0:8]\n",
    "Y = dataset[:, 8]\n",
    "model = KerasClassifier(build_fn=create_model, verbose=1)\n",
    "\n"
   ]
  },
  {
   "cell_type": "code",
   "execution_count": 2,
   "metadata": {
    "collapsed": true,
    "jupyter": {
     "outputs_hidden": true
    }
   },
   "outputs": [
    {
     "name": "stderr",
     "output_type": "stream",
     "text": [
      "C:\\Users\\ICT01_06\\Anaconda3\\envs\\tf_test\\lib\\site-packages\\joblib\\externals\\loky\\process_executor.py:706: UserWarning: A worker stopped while some jobs were given to the executor. This can be caused by a too short worker timeout or by a memory leak.\n",
      "  \"timeout or by a memory leak.\", UserWarning\n"
     ]
    },
    {
     "name": "stdout",
     "output_type": "stream",
     "text": [
      "WARNING:tensorflow:From C:\\Users\\ICT01_06\\Anaconda3\\envs\\tf_test\\lib\\site-packages\\tensorflow\\python\\ops\\nn_impl.py:180: add_dispatch_support.<locals>.wrapper (from tensorflow.python.ops.array_ops) is deprecated and will be removed in a future version.\n",
      "Instructions for updating:\n",
      "Use tf.where in 2.0, which has the same broadcast rule as np.where\n",
      "WARNING:tensorflow:From C:\\Users\\ICT01_06\\Anaconda3\\envs\\tf_test\\lib\\site-packages\\keras\\backend\\tensorflow_backend.py:422: The name tf.global_variables is deprecated. Please use tf.compat.v1.global_variables instead.\n",
      "\n",
      "Epoch 1/10\n"
     ]
    },
    {
     "ename": "InternalError",
     "evalue": "2 root error(s) found.\n  (0) Internal: Blas GEMM launch failed : a.shape=(10, 8), b.shape=(8, 12), m=10, n=12, k=8\n\t [[{{node dense_1/MatMul}}]]\n\t [[Mean/_73]]\n  (1) Internal: Blas GEMM launch failed : a.shape=(10, 8), b.shape=(8, 12), m=10, n=12, k=8\n\t [[{{node dense_1/MatMul}}]]\n0 successful operations.\n0 derived errors ignored.",
     "output_type": "error",
     "traceback": [
      "\u001b[1;31m---------------------------------------------------------------------------\u001b[0m",
      "\u001b[1;31mInternalError\u001b[0m                             Traceback (most recent call last)",
      "\u001b[1;32m<ipython-input-2-637fe0c60fd0>\u001b[0m in \u001b[0;36m<module>\u001b[1;34m\u001b[0m\n\u001b[0;32m      4\u001b[0m grid = GridSearchCV(estimator=model, param_grid=param_grid,\n\u001b[0;32m      5\u001b[0m                    n_jobs=-1)\n\u001b[1;32m----> 6\u001b[1;33m \u001b[0mgrid_result\u001b[0m \u001b[1;33m=\u001b[0m \u001b[0mgrid\u001b[0m\u001b[1;33m.\u001b[0m\u001b[0mfit\u001b[0m\u001b[1;33m(\u001b[0m\u001b[0mX\u001b[0m\u001b[1;33m,\u001b[0m \u001b[0mY\u001b[0m\u001b[1;33m)\u001b[0m\u001b[1;33m\u001b[0m\u001b[1;33m\u001b[0m\u001b[0m\n\u001b[0m\u001b[0;32m      7\u001b[0m print(\"최적스코어: %f   사용한 파라미터조합 : %s\" % (grid_result.best_score_,\n\u001b[0;32m      8\u001b[0m                                       grid_result.best_params_))\n",
      "\u001b[1;32m~\\Anaconda3\\envs\\tf_test\\lib\\site-packages\\sklearn\\model_selection\\_search.py\u001b[0m in \u001b[0;36mfit\u001b[1;34m(self, X, y, groups, **fit_params)\u001b[0m\n\u001b[0;32m    737\u001b[0m             \u001b[0mrefit_start_time\u001b[0m \u001b[1;33m=\u001b[0m \u001b[0mtime\u001b[0m\u001b[1;33m.\u001b[0m\u001b[0mtime\u001b[0m\u001b[1;33m(\u001b[0m\u001b[1;33m)\u001b[0m\u001b[1;33m\u001b[0m\u001b[1;33m\u001b[0m\u001b[0m\n\u001b[0;32m    738\u001b[0m             \u001b[1;32mif\u001b[0m \u001b[0my\u001b[0m \u001b[1;32mis\u001b[0m \u001b[1;32mnot\u001b[0m \u001b[1;32mNone\u001b[0m\u001b[1;33m:\u001b[0m\u001b[1;33m\u001b[0m\u001b[1;33m\u001b[0m\u001b[0m\n\u001b[1;32m--> 739\u001b[1;33m                 \u001b[0mself\u001b[0m\u001b[1;33m.\u001b[0m\u001b[0mbest_estimator_\u001b[0m\u001b[1;33m.\u001b[0m\u001b[0mfit\u001b[0m\u001b[1;33m(\u001b[0m\u001b[0mX\u001b[0m\u001b[1;33m,\u001b[0m \u001b[0my\u001b[0m\u001b[1;33m,\u001b[0m \u001b[1;33m**\u001b[0m\u001b[0mfit_params\u001b[0m\u001b[1;33m)\u001b[0m\u001b[1;33m\u001b[0m\u001b[1;33m\u001b[0m\u001b[0m\n\u001b[0m\u001b[0;32m    740\u001b[0m             \u001b[1;32melse\u001b[0m\u001b[1;33m:\u001b[0m\u001b[1;33m\u001b[0m\u001b[1;33m\u001b[0m\u001b[0m\n\u001b[0;32m    741\u001b[0m                 \u001b[0mself\u001b[0m\u001b[1;33m.\u001b[0m\u001b[0mbest_estimator_\u001b[0m\u001b[1;33m.\u001b[0m\u001b[0mfit\u001b[0m\u001b[1;33m(\u001b[0m\u001b[0mX\u001b[0m\u001b[1;33m,\u001b[0m \u001b[1;33m**\u001b[0m\u001b[0mfit_params\u001b[0m\u001b[1;33m)\u001b[0m\u001b[1;33m\u001b[0m\u001b[1;33m\u001b[0m\u001b[0m\n",
      "\u001b[1;32m~\\Anaconda3\\envs\\tf_test\\lib\\site-packages\\keras\\wrappers\\scikit_learn.py\u001b[0m in \u001b[0;36mfit\u001b[1;34m(self, x, y, sample_weight, **kwargs)\u001b[0m\n\u001b[0;32m    207\u001b[0m         \u001b[1;32mif\u001b[0m \u001b[0msample_weight\u001b[0m \u001b[1;32mis\u001b[0m \u001b[1;32mnot\u001b[0m \u001b[1;32mNone\u001b[0m\u001b[1;33m:\u001b[0m\u001b[1;33m\u001b[0m\u001b[1;33m\u001b[0m\u001b[0m\n\u001b[0;32m    208\u001b[0m             \u001b[0mkwargs\u001b[0m\u001b[1;33m[\u001b[0m\u001b[1;34m'sample_weight'\u001b[0m\u001b[1;33m]\u001b[0m \u001b[1;33m=\u001b[0m \u001b[0msample_weight\u001b[0m\u001b[1;33m\u001b[0m\u001b[1;33m\u001b[0m\u001b[0m\n\u001b[1;32m--> 209\u001b[1;33m         \u001b[1;32mreturn\u001b[0m \u001b[0msuper\u001b[0m\u001b[1;33m(\u001b[0m\u001b[0mKerasClassifier\u001b[0m\u001b[1;33m,\u001b[0m \u001b[0mself\u001b[0m\u001b[1;33m)\u001b[0m\u001b[1;33m.\u001b[0m\u001b[0mfit\u001b[0m\u001b[1;33m(\u001b[0m\u001b[0mx\u001b[0m\u001b[1;33m,\u001b[0m \u001b[0my\u001b[0m\u001b[1;33m,\u001b[0m \u001b[1;33m**\u001b[0m\u001b[0mkwargs\u001b[0m\u001b[1;33m)\u001b[0m\u001b[1;33m\u001b[0m\u001b[1;33m\u001b[0m\u001b[0m\n\u001b[0m\u001b[0;32m    210\u001b[0m \u001b[1;33m\u001b[0m\u001b[0m\n\u001b[0;32m    211\u001b[0m     \u001b[1;32mdef\u001b[0m \u001b[0mpredict\u001b[0m\u001b[1;33m(\u001b[0m\u001b[0mself\u001b[0m\u001b[1;33m,\u001b[0m \u001b[0mx\u001b[0m\u001b[1;33m,\u001b[0m \u001b[1;33m**\u001b[0m\u001b[0mkwargs\u001b[0m\u001b[1;33m)\u001b[0m\u001b[1;33m:\u001b[0m\u001b[1;33m\u001b[0m\u001b[1;33m\u001b[0m\u001b[0m\n",
      "\u001b[1;32m~\\Anaconda3\\envs\\tf_test\\lib\\site-packages\\keras\\wrappers\\scikit_learn.py\u001b[0m in \u001b[0;36mfit\u001b[1;34m(self, x, y, **kwargs)\u001b[0m\n\u001b[0;32m    149\u001b[0m         \u001b[0mfit_args\u001b[0m\u001b[1;33m.\u001b[0m\u001b[0mupdate\u001b[0m\u001b[1;33m(\u001b[0m\u001b[0mkwargs\u001b[0m\u001b[1;33m)\u001b[0m\u001b[1;33m\u001b[0m\u001b[1;33m\u001b[0m\u001b[0m\n\u001b[0;32m    150\u001b[0m \u001b[1;33m\u001b[0m\u001b[0m\n\u001b[1;32m--> 151\u001b[1;33m         \u001b[0mhistory\u001b[0m \u001b[1;33m=\u001b[0m \u001b[0mself\u001b[0m\u001b[1;33m.\u001b[0m\u001b[0mmodel\u001b[0m\u001b[1;33m.\u001b[0m\u001b[0mfit\u001b[0m\u001b[1;33m(\u001b[0m\u001b[0mx\u001b[0m\u001b[1;33m,\u001b[0m \u001b[0my\u001b[0m\u001b[1;33m,\u001b[0m \u001b[1;33m**\u001b[0m\u001b[0mfit_args\u001b[0m\u001b[1;33m)\u001b[0m\u001b[1;33m\u001b[0m\u001b[1;33m\u001b[0m\u001b[0m\n\u001b[0m\u001b[0;32m    152\u001b[0m \u001b[1;33m\u001b[0m\u001b[0m\n\u001b[0;32m    153\u001b[0m         \u001b[1;32mreturn\u001b[0m \u001b[0mhistory\u001b[0m\u001b[1;33m\u001b[0m\u001b[1;33m\u001b[0m\u001b[0m\n",
      "\u001b[1;32m~\\Anaconda3\\envs\\tf_test\\lib\\site-packages\\keras\\engine\\training.py\u001b[0m in \u001b[0;36mfit\u001b[1;34m(self, x, y, batch_size, epochs, verbose, callbacks, validation_split, validation_data, shuffle, class_weight, sample_weight, initial_epoch, steps_per_epoch, validation_steps, validation_freq, max_queue_size, workers, use_multiprocessing, **kwargs)\u001b[0m\n\u001b[0;32m   1237\u001b[0m                                         \u001b[0msteps_per_epoch\u001b[0m\u001b[1;33m=\u001b[0m\u001b[0msteps_per_epoch\u001b[0m\u001b[1;33m,\u001b[0m\u001b[1;33m\u001b[0m\u001b[1;33m\u001b[0m\u001b[0m\n\u001b[0;32m   1238\u001b[0m                                         \u001b[0mvalidation_steps\u001b[0m\u001b[1;33m=\u001b[0m\u001b[0mvalidation_steps\u001b[0m\u001b[1;33m,\u001b[0m\u001b[1;33m\u001b[0m\u001b[1;33m\u001b[0m\u001b[0m\n\u001b[1;32m-> 1239\u001b[1;33m                                         validation_freq=validation_freq)\n\u001b[0m\u001b[0;32m   1240\u001b[0m \u001b[1;33m\u001b[0m\u001b[0m\n\u001b[0;32m   1241\u001b[0m     def evaluate(self,\n",
      "\u001b[1;32m~\\Anaconda3\\envs\\tf_test\\lib\\site-packages\\keras\\engine\\training_arrays.py\u001b[0m in \u001b[0;36mfit_loop\u001b[1;34m(model, fit_function, fit_inputs, out_labels, batch_size, epochs, verbose, callbacks, val_function, val_inputs, shuffle, initial_epoch, steps_per_epoch, validation_steps, validation_freq)\u001b[0m\n\u001b[0;32m    194\u001b[0m                     \u001b[0mins_batch\u001b[0m\u001b[1;33m[\u001b[0m\u001b[0mi\u001b[0m\u001b[1;33m]\u001b[0m \u001b[1;33m=\u001b[0m \u001b[0mins_batch\u001b[0m\u001b[1;33m[\u001b[0m\u001b[0mi\u001b[0m\u001b[1;33m]\u001b[0m\u001b[1;33m.\u001b[0m\u001b[0mtoarray\u001b[0m\u001b[1;33m(\u001b[0m\u001b[1;33m)\u001b[0m\u001b[1;33m\u001b[0m\u001b[1;33m\u001b[0m\u001b[0m\n\u001b[0;32m    195\u001b[0m \u001b[1;33m\u001b[0m\u001b[0m\n\u001b[1;32m--> 196\u001b[1;33m                 \u001b[0mouts\u001b[0m \u001b[1;33m=\u001b[0m \u001b[0mfit_function\u001b[0m\u001b[1;33m(\u001b[0m\u001b[0mins_batch\u001b[0m\u001b[1;33m)\u001b[0m\u001b[1;33m\u001b[0m\u001b[1;33m\u001b[0m\u001b[0m\n\u001b[0m\u001b[0;32m    197\u001b[0m                 \u001b[0mouts\u001b[0m \u001b[1;33m=\u001b[0m \u001b[0mto_list\u001b[0m\u001b[1;33m(\u001b[0m\u001b[0mouts\u001b[0m\u001b[1;33m)\u001b[0m\u001b[1;33m\u001b[0m\u001b[1;33m\u001b[0m\u001b[0m\n\u001b[0;32m    198\u001b[0m                 \u001b[1;32mfor\u001b[0m \u001b[0ml\u001b[0m\u001b[1;33m,\u001b[0m \u001b[0mo\u001b[0m \u001b[1;32min\u001b[0m \u001b[0mzip\u001b[0m\u001b[1;33m(\u001b[0m\u001b[0mout_labels\u001b[0m\u001b[1;33m,\u001b[0m \u001b[0mouts\u001b[0m\u001b[1;33m)\u001b[0m\u001b[1;33m:\u001b[0m\u001b[1;33m\u001b[0m\u001b[1;33m\u001b[0m\u001b[0m\n",
      "\u001b[1;32m~\\Anaconda3\\envs\\tf_test\\lib\\site-packages\\tensorflow\\python\\keras\\backend.py\u001b[0m in \u001b[0;36m__call__\u001b[1;34m(self, inputs)\u001b[0m\n\u001b[0;32m   3290\u001b[0m \u001b[1;33m\u001b[0m\u001b[0m\n\u001b[0;32m   3291\u001b[0m     fetched = self._callable_fn(*array_vals,\n\u001b[1;32m-> 3292\u001b[1;33m                                 run_metadata=self.run_metadata)\n\u001b[0m\u001b[0;32m   3293\u001b[0m     \u001b[0mself\u001b[0m\u001b[1;33m.\u001b[0m\u001b[0m_call_fetch_callbacks\u001b[0m\u001b[1;33m(\u001b[0m\u001b[0mfetched\u001b[0m\u001b[1;33m[\u001b[0m\u001b[1;33m-\u001b[0m\u001b[0mlen\u001b[0m\u001b[1;33m(\u001b[0m\u001b[0mself\u001b[0m\u001b[1;33m.\u001b[0m\u001b[0m_fetches\u001b[0m\u001b[1;33m)\u001b[0m\u001b[1;33m:\u001b[0m\u001b[1;33m]\u001b[0m\u001b[1;33m)\u001b[0m\u001b[1;33m\u001b[0m\u001b[1;33m\u001b[0m\u001b[0m\n\u001b[0;32m   3294\u001b[0m     output_structure = nest.pack_sequence_as(\n",
      "\u001b[1;32m~\\Anaconda3\\envs\\tf_test\\lib\\site-packages\\tensorflow\\python\\client\\session.py\u001b[0m in \u001b[0;36m__call__\u001b[1;34m(self, *args, **kwargs)\u001b[0m\n\u001b[0;32m   1456\u001b[0m         ret = tf_session.TF_SessionRunCallable(self._session._session,\n\u001b[0;32m   1457\u001b[0m                                                \u001b[0mself\u001b[0m\u001b[1;33m.\u001b[0m\u001b[0m_handle\u001b[0m\u001b[1;33m,\u001b[0m \u001b[0margs\u001b[0m\u001b[1;33m,\u001b[0m\u001b[1;33m\u001b[0m\u001b[1;33m\u001b[0m\u001b[0m\n\u001b[1;32m-> 1458\u001b[1;33m                                                run_metadata_ptr)\n\u001b[0m\u001b[0;32m   1459\u001b[0m         \u001b[1;32mif\u001b[0m \u001b[0mrun_metadata\u001b[0m\u001b[1;33m:\u001b[0m\u001b[1;33m\u001b[0m\u001b[1;33m\u001b[0m\u001b[0m\n\u001b[0;32m   1460\u001b[0m           \u001b[0mproto_data\u001b[0m \u001b[1;33m=\u001b[0m \u001b[0mtf_session\u001b[0m\u001b[1;33m.\u001b[0m\u001b[0mTF_GetBuffer\u001b[0m\u001b[1;33m(\u001b[0m\u001b[0mrun_metadata_ptr\u001b[0m\u001b[1;33m)\u001b[0m\u001b[1;33m\u001b[0m\u001b[1;33m\u001b[0m\u001b[0m\n",
      "\u001b[1;31mInternalError\u001b[0m: 2 root error(s) found.\n  (0) Internal: Blas GEMM launch failed : a.shape=(10, 8), b.shape=(8, 12), m=10, n=12, k=8\n\t [[{{node dense_1/MatMul}}]]\n\t [[Mean/_73]]\n  (1) Internal: Blas GEMM launch failed : a.shape=(10, 8), b.shape=(8, 12), m=10, n=12, k=8\n\t [[{{node dense_1/MatMul}}]]\n0 successful operations.\n0 derived errors ignored."
     ]
    }
   ],
   "source": [
    "batch_size = [10, 20, 40, 60, 80, 100]\n",
    "epochs = [10, 50, 100]\n",
    "param_grid = dict(batch_size=batch_size, epochs=epochs)\n",
    "grid = GridSearchCV(estimator=model, param_grid=param_grid,\n",
    "                   n_jobs=-1)\n",
    "grid_result = grid.fit(X, Y)\n",
    "print(\"최적스코어: %f   사용한 파라미터조합 : %s\" % (grid_result.best_score_,\n",
    "                                      grid_result.best_params_))\n",
    "means = grid_result.cv_results_['mean_test_score']\n",
    "stds = grid_result.cv_results_['std_test_score']\n",
    "params = grid_result.cv_results_['params']\n",
    "for mean, stdev, param in zip(means, stds, params):\n",
    "    print(\"%f (%f) with: %r\" % (mean, stdev, param))"
   ]
  },
  {
   "cell_type": "code",
   "execution_count": 2,
   "metadata": {},
   "outputs": [
    {
     "name": "stderr",
     "output_type": "stream",
     "text": [
      "Using TensorFlow backend.\n"
     ]
    },
    {
     "data": {
      "text/plain": [
       "'2.3.1'"
      ]
     },
     "execution_count": 2,
     "metadata": {},
     "output_type": "execute_result"
    }
   ],
   "source": [
    "import keras\n",
    "keras.__version__"
   ]
  },
  {
   "cell_type": "code",
   "execution_count": 1,
   "metadata": {
    "collapsed": true,
    "jupyter": {
     "outputs_hidden": true
    }
   },
   "outputs": [
    {
     "name": "stderr",
     "output_type": "stream",
     "text": [
      "C:\\Users\\ICT01_06\\Anaconda3\\envs\\tf_test\\lib\\site-packages\\tensorflow\\python\\framework\\dtypes.py:516: FutureWarning: Passing (type, 1) or '1type' as a synonym of type is deprecated; in a future version of numpy, it will be understood as (type, (1,)) / '(1,)type'.\n",
      "  _np_qint8 = np.dtype([(\"qint8\", np.int8, 1)])\n",
      "C:\\Users\\ICT01_06\\Anaconda3\\envs\\tf_test\\lib\\site-packages\\tensorflow\\python\\framework\\dtypes.py:517: FutureWarning: Passing (type, 1) or '1type' as a synonym of type is deprecated; in a future version of numpy, it will be understood as (type, (1,)) / '(1,)type'.\n",
      "  _np_quint8 = np.dtype([(\"quint8\", np.uint8, 1)])\n",
      "C:\\Users\\ICT01_06\\Anaconda3\\envs\\tf_test\\lib\\site-packages\\tensorflow\\python\\framework\\dtypes.py:518: FutureWarning: Passing (type, 1) or '1type' as a synonym of type is deprecated; in a future version of numpy, it will be understood as (type, (1,)) / '(1,)type'.\n",
      "  _np_qint16 = np.dtype([(\"qint16\", np.int16, 1)])\n",
      "C:\\Users\\ICT01_06\\Anaconda3\\envs\\tf_test\\lib\\site-packages\\tensorflow\\python\\framework\\dtypes.py:519: FutureWarning: Passing (type, 1) or '1type' as a synonym of type is deprecated; in a future version of numpy, it will be understood as (type, (1,)) / '(1,)type'.\n",
      "  _np_quint16 = np.dtype([(\"quint16\", np.uint16, 1)])\n",
      "C:\\Users\\ICT01_06\\Anaconda3\\envs\\tf_test\\lib\\site-packages\\tensorflow\\python\\framework\\dtypes.py:520: FutureWarning: Passing (type, 1) or '1type' as a synonym of type is deprecated; in a future version of numpy, it will be understood as (type, (1,)) / '(1,)type'.\n",
      "  _np_qint32 = np.dtype([(\"qint32\", np.int32, 1)])\n",
      "C:\\Users\\ICT01_06\\Anaconda3\\envs\\tf_test\\lib\\site-packages\\tensorflow\\python\\framework\\dtypes.py:525: FutureWarning: Passing (type, 1) or '1type' as a synonym of type is deprecated; in a future version of numpy, it will be understood as (type, (1,)) / '(1,)type'.\n",
      "  np_resource = np.dtype([(\"resource\", np.ubyte, 1)])\n",
      "C:\\Users\\ICT01_06\\Anaconda3\\envs\\tf_test\\lib\\site-packages\\tensorboard\\compat\\tensorflow_stub\\dtypes.py:541: FutureWarning: Passing (type, 1) or '1type' as a synonym of type is deprecated; in a future version of numpy, it will be understood as (type, (1,)) / '(1,)type'.\n",
      "  _np_qint8 = np.dtype([(\"qint8\", np.int8, 1)])\n",
      "C:\\Users\\ICT01_06\\Anaconda3\\envs\\tf_test\\lib\\site-packages\\tensorboard\\compat\\tensorflow_stub\\dtypes.py:542: FutureWarning: Passing (type, 1) or '1type' as a synonym of type is deprecated; in a future version of numpy, it will be understood as (type, (1,)) / '(1,)type'.\n",
      "  _np_quint8 = np.dtype([(\"quint8\", np.uint8, 1)])\n",
      "C:\\Users\\ICT01_06\\Anaconda3\\envs\\tf_test\\lib\\site-packages\\tensorboard\\compat\\tensorflow_stub\\dtypes.py:543: FutureWarning: Passing (type, 1) or '1type' as a synonym of type is deprecated; in a future version of numpy, it will be understood as (type, (1,)) / '(1,)type'.\n",
      "  _np_qint16 = np.dtype([(\"qint16\", np.int16, 1)])\n",
      "C:\\Users\\ICT01_06\\Anaconda3\\envs\\tf_test\\lib\\site-packages\\tensorboard\\compat\\tensorflow_stub\\dtypes.py:544: FutureWarning: Passing (type, 1) or '1type' as a synonym of type is deprecated; in a future version of numpy, it will be understood as (type, (1,)) / '(1,)type'.\n",
      "  _np_quint16 = np.dtype([(\"quint16\", np.uint16, 1)])\n",
      "C:\\Users\\ICT01_06\\Anaconda3\\envs\\tf_test\\lib\\site-packages\\tensorboard\\compat\\tensorflow_stub\\dtypes.py:545: FutureWarning: Passing (type, 1) or '1type' as a synonym of type is deprecated; in a future version of numpy, it will be understood as (type, (1,)) / '(1,)type'.\n",
      "  _np_qint32 = np.dtype([(\"qint32\", np.int32, 1)])\n",
      "C:\\Users\\ICT01_06\\Anaconda3\\envs\\tf_test\\lib\\site-packages\\tensorboard\\compat\\tensorflow_stub\\dtypes.py:550: FutureWarning: Passing (type, 1) or '1type' as a synonym of type is deprecated; in a future version of numpy, it will be understood as (type, (1,)) / '(1,)type'.\n",
      "  np_resource = np.dtype([(\"resource\", np.ubyte, 1)])\n"
     ]
    },
    {
     "data": {
      "text/plain": [
       "'1.14.0'"
      ]
     },
     "execution_count": 1,
     "metadata": {},
     "output_type": "execute_result"
    }
   ],
   "source": [
    "import tensorflow as tf\n",
    "tf.__version__"
   ]
  }
 ],
 "metadata": {
  "kernelspec": {
   "display_name": "Python 3",
   "language": "python",
   "name": "python3"
  },
  "language_info": {
   "codemirror_mode": {
    "name": "ipython",
    "version": 3
   },
   "file_extension": ".py",
   "mimetype": "text/x-python",
   "name": "python",
   "nbconvert_exporter": "python",
   "pygments_lexer": "ipython3",
   "version": "3.8.3"
  }
 },
 "nbformat": 4,
 "nbformat_minor": 4
}
